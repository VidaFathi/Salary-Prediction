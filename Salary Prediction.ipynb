{
 "cells": [
  {
   "cell_type": "markdown",
   "id": "4717aa30",
   "metadata": {},
   "source": [
    "# Understanding the Objective"
   ]
  },
  {
   "cell_type": "markdown",
   "id": "3ed9102e",
   "metadata": {},
   "source": [
    "The goal is to predict the salary of data related positions based on location, company review and job title"
   ]
  },
  {
   "cell_type": "markdown",
   "id": "9234573f",
   "metadata": {},
   "source": [
    "# Importing Dataset"
   ]
  },
  {
   "cell_type": "code",
   "execution_count": 15,
   "id": "d97c1cb5",
   "metadata": {},
   "outputs": [],
   "source": [
    "import pandas as pd"
   ]
  },
  {
   "cell_type": "code",
   "execution_count": 16,
   "id": "9bc288df",
   "metadata": {},
   "outputs": [],
   "source": [
    "df1 = pd.read_csv('df.csv')"
   ]
  },
  {
   "cell_type": "markdown",
   "id": "6f03bc89",
   "metadata": {},
   "source": [
    "# Import Librariies:"
   ]
  },
  {
   "cell_type": "code",
   "execution_count": 17,
   "id": "7c2e7aa5",
   "metadata": {},
   "outputs": [],
   "source": [
    "import pandas as pd\n",
    "import matplotlib.pyplot as plt\n",
    "import seaborn as sns\n",
    "from sklearn.model_selection import train_test_split\n",
    "from sklearn.linear_model import LinearRegression\n",
    "from sklearn.metrics import mean_absolute_error\n",
    "import pickle"
   ]
  },
  {
   "cell_type": "markdown",
   "id": "8b895eaa",
   "metadata": {},
   "source": [
    "# Read the Data:"
   ]
  },
  {
   "cell_type": "code",
   "execution_count": 18,
   "id": "4fb85392",
   "metadata": {},
   "outputs": [],
   "source": [
    "df1 = pd.read_csv('df.csv')"
   ]
  },
  {
   "cell_type": "markdown",
   "id": "c666bba8",
   "metadata": {},
   "source": [
    "# Data Understanding:"
   ]
  },
  {
   "cell_type": "code",
   "execution_count": 19,
   "id": "495e0a24",
   "metadata": {},
   "outputs": [
    {
     "data": {
      "text/html": [
       "<div>\n",
       "<style scoped>\n",
       "    .dataframe tbody tr th:only-of-type {\n",
       "        vertical-align: middle;\n",
       "    }\n",
       "\n",
       "    .dataframe tbody tr th {\n",
       "        vertical-align: top;\n",
       "    }\n",
       "\n",
       "    .dataframe thead th {\n",
       "        text-align: right;\n",
       "    }\n",
       "</style>\n",
       "<table border=\"1\" class=\"dataframe\">\n",
       "  <thead>\n",
       "    <tr style=\"text-align: right;\">\n",
       "      <th></th>\n",
       "      <th>Job Title</th>\n",
       "      <th>Salary Estimate</th>\n",
       "      <th>Rating</th>\n",
       "      <th>Company Name</th>\n",
       "      <th>Location</th>\n",
       "      <th>Size</th>\n",
       "      <th>Founded</th>\n",
       "      <th>Type of ownership</th>\n",
       "      <th>Industry</th>\n",
       "      <th>Sector</th>\n",
       "      <th>Revenue</th>\n",
       "    </tr>\n",
       "  </thead>\n",
       "  <tbody>\n",
       "    <tr>\n",
       "      <th>0</th>\n",
       "      <td>Senior Data Scientist</td>\n",
       "      <td>$111K-$181K (Glassdoor est.)</td>\n",
       "      <td>3.5</td>\n",
       "      <td>Hopper\\n3.5</td>\n",
       "      <td>New York, NY</td>\n",
       "      <td>501 to 1000 employees</td>\n",
       "      <td>2007</td>\n",
       "      <td>Company - Private</td>\n",
       "      <td>Travel Agencies</td>\n",
       "      <td>Travel &amp; Tourism</td>\n",
       "      <td>Unknown / Non-Applicable</td>\n",
       "    </tr>\n",
       "    <tr>\n",
       "      <th>1</th>\n",
       "      <td>Data Scientist, Product Analytics</td>\n",
       "      <td>$111K-$181K (Glassdoor est.)</td>\n",
       "      <td>4.5</td>\n",
       "      <td>Noom US\\n4.5</td>\n",
       "      <td>New York, NY</td>\n",
       "      <td>1001 to 5000 employees</td>\n",
       "      <td>2008</td>\n",
       "      <td>Company - Private</td>\n",
       "      <td>Health, Beauty, &amp; Fitness</td>\n",
       "      <td>Consumer Services</td>\n",
       "      <td>Unknown / Non-Applicable</td>\n",
       "    </tr>\n",
       "    <tr>\n",
       "      <th>2</th>\n",
       "      <td>Data Science Manager</td>\n",
       "      <td>$111K-$181K (Glassdoor est.)</td>\n",
       "      <td>-1.0</td>\n",
       "      <td>Decode_M</td>\n",
       "      <td>New York, NY</td>\n",
       "      <td>1 to 50 employees</td>\n",
       "      <td>-1</td>\n",
       "      <td>Unknown</td>\n",
       "      <td>-1</td>\n",
       "      <td>-1</td>\n",
       "      <td>Unknown / Non-Applicable</td>\n",
       "    </tr>\n",
       "    <tr>\n",
       "      <th>3</th>\n",
       "      <td>Data Analyst</td>\n",
       "      <td>$111K-$181K (Glassdoor est.)</td>\n",
       "      <td>3.4</td>\n",
       "      <td>Sapphire Digital\\n3.4</td>\n",
       "      <td>Lyndhurst, NJ</td>\n",
       "      <td>201 to 500 employees</td>\n",
       "      <td>2019</td>\n",
       "      <td>Company - Private</td>\n",
       "      <td>Internet</td>\n",
       "      <td>Information Technology</td>\n",
       "      <td>Unknown / Non-Applicable</td>\n",
       "    </tr>\n",
       "    <tr>\n",
       "      <th>4</th>\n",
       "      <td>Director, Data Science</td>\n",
       "      <td>$111K-$181K (Glassdoor est.)</td>\n",
       "      <td>3.4</td>\n",
       "      <td>United Entertainment Group\\n3.4</td>\n",
       "      <td>New York, NY</td>\n",
       "      <td>51 to 200 employees</td>\n",
       "      <td>2007</td>\n",
       "      <td>Company - Private</td>\n",
       "      <td>Advertising &amp; Marketing</td>\n",
       "      <td>Business Services</td>\n",
       "      <td>Unknown / Non-Applicable</td>\n",
       "    </tr>\n",
       "  </tbody>\n",
       "</table>\n",
       "</div>"
      ],
      "text/plain": [
       "                           Job Title               Salary Estimate  Rating  \\\n",
       "0              Senior Data Scientist  $111K-$181K (Glassdoor est.)     3.5   \n",
       "1  Data Scientist, Product Analytics  $111K-$181K (Glassdoor est.)     4.5   \n",
       "2               Data Science Manager  $111K-$181K (Glassdoor est.)    -1.0   \n",
       "3                       Data Analyst  $111K-$181K (Glassdoor est.)     3.4   \n",
       "4             Director, Data Science  $111K-$181K (Glassdoor est.)     3.4   \n",
       "\n",
       "                      Company Name       Location                    Size  \\\n",
       "0                      Hopper\\n3.5   New York, NY   501 to 1000 employees   \n",
       "1                     Noom US\\n4.5   New York, NY  1001 to 5000 employees   \n",
       "2                         Decode_M   New York, NY       1 to 50 employees   \n",
       "3            Sapphire Digital\\n3.4  Lyndhurst, NJ    201 to 500 employees   \n",
       "4  United Entertainment Group\\n3.4   New York, NY     51 to 200 employees   \n",
       "\n",
       "  Founded  Type of ownership                   Industry  \\\n",
       "0    2007  Company - Private            Travel Agencies   \n",
       "1    2008  Company - Private  Health, Beauty, & Fitness   \n",
       "2      -1            Unknown                         -1   \n",
       "3    2019  Company - Private                   Internet   \n",
       "4    2007  Company - Private    Advertising & Marketing   \n",
       "\n",
       "                   Sector                   Revenue  \n",
       "0        Travel & Tourism  Unknown / Non-Applicable  \n",
       "1       Consumer Services  Unknown / Non-Applicable  \n",
       "2                      -1  Unknown / Non-Applicable  \n",
       "3  Information Technology  Unknown / Non-Applicable  \n",
       "4       Business Services  Unknown / Non-Applicable  "
      ]
     },
     "execution_count": 19,
     "metadata": {},
     "output_type": "execute_result"
    }
   ],
   "source": [
    "df1.head()"
   ]
  },
  {
   "cell_type": "markdown",
   "id": "7f9bfae4",
   "metadata": {},
   "source": [
    "A few quick things come to mind looking at the above data:\n",
    "\n",
    "1. Job titles can be categorized based on the words they contain such as \"director\", \"data analyst\", ...\n",
    "2. Minimum and maximum salaries can be extracted from the salary estimate column and then averaged to create a new average salary column which will be our response variable\n",
    "3. Company names should not matter much\n",
    "4. The state where each position is located can be extracted from the location column\n",
    "5. Because there are too many unknowns in the Revenue column, we will not use that column"
   ]
  },
  {
   "cell_type": "markdown",
   "id": "2d36beef",
   "metadata": {},
   "source": [
    "# Assess Data:"
   ]
  },
  {
   "cell_type": "markdown",
   "id": "2279f93b",
   "metadata": {},
   "source": [
    "In this section, we will check the raw data and get an understanding of what kind of data we are dealing with.\n"
   ]
  },
  {
   "cell_type": "code",
   "execution_count": 20,
   "id": "02f012b4",
   "metadata": {},
   "outputs": [
    {
     "name": "stdout",
     "output_type": "stream",
     "text": [
      "<class 'pandas.core.frame.DataFrame'>\n",
      "RangeIndex: 5892 entries, 0 to 5891\n",
      "Data columns (total 11 columns):\n",
      " #   Column             Non-Null Count  Dtype  \n",
      "---  ------             --------------  -----  \n",
      " 0   Job Title          5892 non-null   object \n",
      " 1   Salary Estimate    5892 non-null   object \n",
      " 2   Rating             5892 non-null   float64\n",
      " 3   Company Name       5892 non-null   object \n",
      " 4   Location           5892 non-null   object \n",
      " 5   Size               5892 non-null   object \n",
      " 6   Founded            5892 non-null   object \n",
      " 7   Type of ownership  5892 non-null   object \n",
      " 8   Industry           5892 non-null   object \n",
      " 9   Sector             5892 non-null   object \n",
      " 10  Revenue            5892 non-null   object \n",
      "dtypes: float64(1), object(10)\n",
      "memory usage: 506.5+ KB\n"
     ]
    }
   ],
   "source": [
    "df1.info()"
   ]
  },
  {
   "cell_type": "markdown",
   "id": "deb09993",
   "metadata": {},
   "source": [
    "# Cleaning Data:"
   ]
  },
  {
   "cell_type": "markdown",
   "id": "55dbdb3b",
   "metadata": {},
   "source": [
    "*  Created minimum and maximum salary columns for the positions and parsed the\n",
    "corresponding values out of the raw data\n",
    "*   Created average salary column\n",
    "* Extracted the state where each position is located. Created a state column\n",
    "* Title column was created to show the different categories for the posted roles such as data engineer, deep learning, analyst, ..."
   ]
  },
  {
   "cell_type": "markdown",
   "id": "af41c439",
   "metadata": {},
   "source": [
    "# Cleaning the 'Salary Estimate' :"
   ]
  },
  {
   "cell_type": "markdown",
   "id": "0c54d8b0",
   "metadata": {},
   "source": [
    "   1. we will create two functions- one for removing the $ sign and another for removing 'K'"
   ]
  },
  {
   "cell_type": "markdown",
   "id": "63db5cfd",
   "metadata": {},
   "source": [
    "  We can do this by creating function and applying that function:\n",
    "\n",
    "       1) def  dollors_remover(a):\n",
    "            a = a.replace('$',' ')\n",
    "            return a\n",
    "\n",
    "       2) df1['Salary Estimate'] = df1['Salary Estimate'].apply(dollors_remover)"
   ]
  },
  {
   "cell_type": "markdown",
   "id": "791ae574",
   "metadata": {},
   "source": [
    "or we can use lambda:"
   ]
  },
  {
   "cell_type": "code",
   "execution_count": 23,
   "id": "fc950876",
   "metadata": {},
   "outputs": [],
   "source": [
    "# Remove $\n",
    "df1['Salary Estimate'] = df1['Salary Estimate'].apply(lambda a: a.replace('$',' '))"
   ]
  },
  {
   "cell_type": "code",
   "execution_count": 24,
   "id": "79848fe7",
   "metadata": {},
   "outputs": [],
   "source": [
    "# Remove K\n",
    "df1['Salary Estimate'] = df1['Salary Estimate'].apply(lambda a: a.replace('K',' '))"
   ]
  },
  {
   "cell_type": "code",
   "execution_count": 26,
   "id": "0ba07fb4",
   "metadata": {},
   "outputs": [
    {
     "data": {
      "text/html": [
       "<div>\n",
       "<style scoped>\n",
       "    .dataframe tbody tr th:only-of-type {\n",
       "        vertical-align: middle;\n",
       "    }\n",
       "\n",
       "    .dataframe tbody tr th {\n",
       "        vertical-align: top;\n",
       "    }\n",
       "\n",
       "    .dataframe thead th {\n",
       "        text-align: right;\n",
       "    }\n",
       "</style>\n",
       "<table border=\"1\" class=\"dataframe\">\n",
       "  <thead>\n",
       "    <tr style=\"text-align: right;\">\n",
       "      <th></th>\n",
       "      <th>Job Title</th>\n",
       "      <th>Salary Estimate</th>\n",
       "      <th>Rating</th>\n",
       "      <th>Company Name</th>\n",
       "      <th>Location</th>\n",
       "      <th>Size</th>\n",
       "      <th>Founded</th>\n",
       "      <th>Type of ownership</th>\n",
       "      <th>Industry</th>\n",
       "      <th>Sector</th>\n",
       "      <th>Revenue</th>\n",
       "    </tr>\n",
       "  </thead>\n",
       "  <tbody>\n",
       "    <tr>\n",
       "      <th>0</th>\n",
       "      <td>Senior Data Scientist</td>\n",
       "      <td>111 - 181  (Glassdoor est.)</td>\n",
       "      <td>3.5</td>\n",
       "      <td>Hopper\\n3.5</td>\n",
       "      <td>New York, NY</td>\n",
       "      <td>501 to 1000 employees</td>\n",
       "      <td>2007</td>\n",
       "      <td>Company - Private</td>\n",
       "      <td>Travel Agencies</td>\n",
       "      <td>Travel &amp; Tourism</td>\n",
       "      <td>Unknown / Non-Applicable</td>\n",
       "    </tr>\n",
       "    <tr>\n",
       "      <th>1</th>\n",
       "      <td>Data Scientist, Product Analytics</td>\n",
       "      <td>111 - 181  (Glassdoor est.)</td>\n",
       "      <td>4.5</td>\n",
       "      <td>Noom US\\n4.5</td>\n",
       "      <td>New York, NY</td>\n",
       "      <td>1001 to 5000 employees</td>\n",
       "      <td>2008</td>\n",
       "      <td>Company - Private</td>\n",
       "      <td>Health, Beauty, &amp; Fitness</td>\n",
       "      <td>Consumer Services</td>\n",
       "      <td>Unknown / Non-Applicable</td>\n",
       "    </tr>\n",
       "    <tr>\n",
       "      <th>2</th>\n",
       "      <td>Data Science Manager</td>\n",
       "      <td>111 - 181  (Glassdoor est.)</td>\n",
       "      <td>-1.0</td>\n",
       "      <td>Decode_M</td>\n",
       "      <td>New York, NY</td>\n",
       "      <td>1 to 50 employees</td>\n",
       "      <td>-1</td>\n",
       "      <td>Unknown</td>\n",
       "      <td>-1</td>\n",
       "      <td>-1</td>\n",
       "      <td>Unknown / Non-Applicable</td>\n",
       "    </tr>\n",
       "    <tr>\n",
       "      <th>3</th>\n",
       "      <td>Data Analyst</td>\n",
       "      <td>111 - 181  (Glassdoor est.)</td>\n",
       "      <td>3.4</td>\n",
       "      <td>Sapphire Digital\\n3.4</td>\n",
       "      <td>Lyndhurst, NJ</td>\n",
       "      <td>201 to 500 employees</td>\n",
       "      <td>2019</td>\n",
       "      <td>Company - Private</td>\n",
       "      <td>Internet</td>\n",
       "      <td>Information Technology</td>\n",
       "      <td>Unknown / Non-Applicable</td>\n",
       "    </tr>\n",
       "    <tr>\n",
       "      <th>4</th>\n",
       "      <td>Director, Data Science</td>\n",
       "      <td>111 - 181  (Glassdoor est.)</td>\n",
       "      <td>3.4</td>\n",
       "      <td>United Entertainment Group\\n3.4</td>\n",
       "      <td>New York, NY</td>\n",
       "      <td>51 to 200 employees</td>\n",
       "      <td>2007</td>\n",
       "      <td>Company - Private</td>\n",
       "      <td>Advertising &amp; Marketing</td>\n",
       "      <td>Business Services</td>\n",
       "      <td>Unknown / Non-Applicable</td>\n",
       "    </tr>\n",
       "  </tbody>\n",
       "</table>\n",
       "</div>"
      ],
      "text/plain": [
       "                           Job Title               Salary Estimate  Rating  \\\n",
       "0              Senior Data Scientist   111 - 181  (Glassdoor est.)     3.5   \n",
       "1  Data Scientist, Product Analytics   111 - 181  (Glassdoor est.)     4.5   \n",
       "2               Data Science Manager   111 - 181  (Glassdoor est.)    -1.0   \n",
       "3                       Data Analyst   111 - 181  (Glassdoor est.)     3.4   \n",
       "4             Director, Data Science   111 - 181  (Glassdoor est.)     3.4   \n",
       "\n",
       "                      Company Name       Location                    Size  \\\n",
       "0                      Hopper\\n3.5   New York, NY   501 to 1000 employees   \n",
       "1                     Noom US\\n4.5   New York, NY  1001 to 5000 employees   \n",
       "2                         Decode_M   New York, NY       1 to 50 employees   \n",
       "3            Sapphire Digital\\n3.4  Lyndhurst, NJ    201 to 500 employees   \n",
       "4  United Entertainment Group\\n3.4   New York, NY     51 to 200 employees   \n",
       "\n",
       "  Founded  Type of ownership                   Industry  \\\n",
       "0    2007  Company - Private            Travel Agencies   \n",
       "1    2008  Company - Private  Health, Beauty, & Fitness   \n",
       "2      -1            Unknown                         -1   \n",
       "3    2019  Company - Private                   Internet   \n",
       "4    2007  Company - Private    Advertising & Marketing   \n",
       "\n",
       "                   Sector                   Revenue  \n",
       "0        Travel & Tourism  Unknown / Non-Applicable  \n",
       "1       Consumer Services  Unknown / Non-Applicable  \n",
       "2                      -1  Unknown / Non-Applicable  \n",
       "3  Information Technology  Unknown / Non-Applicable  \n",
       "4       Business Services  Unknown / Non-Applicable  "
      ]
     },
     "execution_count": 26,
     "metadata": {},
     "output_type": "execute_result"
    }
   ],
   "source": [
    "df1.head()"
   ]
  },
  {
   "cell_type": "code",
   "execution_count": 27,
   "id": "a9ecf536",
   "metadata": {},
   "outputs": [],
   "source": [
    "# Remove 'Per Hour' from column\n",
    "df1 = df1[~df1['Salary Estimate'].str.contains('Per Hour')]"
   ]
  },
  {
   "cell_type": "code",
   "execution_count": 28,
   "id": "bc029910",
   "metadata": {},
   "outputs": [],
   "source": [
    "# Remove instances without salary estimates(remove -1)\n",
    "df1 = df1[df1['Salary Estimate']!= '-1']"
   ]
  },
  {
   "cell_type": "code",
   "execution_count": 29,
   "id": "dbdf1965",
   "metadata": {},
   "outputs": [
    {
     "data": {
      "text/html": [
       "<div>\n",
       "<style scoped>\n",
       "    .dataframe tbody tr th:only-of-type {\n",
       "        vertical-align: middle;\n",
       "    }\n",
       "\n",
       "    .dataframe tbody tr th {\n",
       "        vertical-align: top;\n",
       "    }\n",
       "\n",
       "    .dataframe thead th {\n",
       "        text-align: right;\n",
       "    }\n",
       "</style>\n",
       "<table border=\"1\" class=\"dataframe\">\n",
       "  <thead>\n",
       "    <tr style=\"text-align: right;\">\n",
       "      <th></th>\n",
       "      <th>Job Title</th>\n",
       "      <th>Salary Estimate</th>\n",
       "      <th>Rating</th>\n",
       "      <th>Company Name</th>\n",
       "      <th>Location</th>\n",
       "      <th>Size</th>\n",
       "      <th>Founded</th>\n",
       "      <th>Type of ownership</th>\n",
       "      <th>Industry</th>\n",
       "      <th>Sector</th>\n",
       "      <th>Revenue</th>\n",
       "    </tr>\n",
       "  </thead>\n",
       "  <tbody>\n",
       "    <tr>\n",
       "      <th>0</th>\n",
       "      <td>Senior Data Scientist</td>\n",
       "      <td>111 - 181  (Glassdoor est.)</td>\n",
       "      <td>3.5</td>\n",
       "      <td>Hopper\\n3.5</td>\n",
       "      <td>New York, NY</td>\n",
       "      <td>501 to 1000 employees</td>\n",
       "      <td>2007</td>\n",
       "      <td>Company - Private</td>\n",
       "      <td>Travel Agencies</td>\n",
       "      <td>Travel &amp; Tourism</td>\n",
       "      <td>Unknown / Non-Applicable</td>\n",
       "    </tr>\n",
       "    <tr>\n",
       "      <th>1</th>\n",
       "      <td>Data Scientist, Product Analytics</td>\n",
       "      <td>111 - 181  (Glassdoor est.)</td>\n",
       "      <td>4.5</td>\n",
       "      <td>Noom US\\n4.5</td>\n",
       "      <td>New York, NY</td>\n",
       "      <td>1001 to 5000 employees</td>\n",
       "      <td>2008</td>\n",
       "      <td>Company - Private</td>\n",
       "      <td>Health, Beauty, &amp; Fitness</td>\n",
       "      <td>Consumer Services</td>\n",
       "      <td>Unknown / Non-Applicable</td>\n",
       "    </tr>\n",
       "    <tr>\n",
       "      <th>2</th>\n",
       "      <td>Data Science Manager</td>\n",
       "      <td>111 - 181  (Glassdoor est.)</td>\n",
       "      <td>-1.0</td>\n",
       "      <td>Decode_M</td>\n",
       "      <td>New York, NY</td>\n",
       "      <td>1 to 50 employees</td>\n",
       "      <td>-1</td>\n",
       "      <td>Unknown</td>\n",
       "      <td>-1</td>\n",
       "      <td>-1</td>\n",
       "      <td>Unknown / Non-Applicable</td>\n",
       "    </tr>\n",
       "    <tr>\n",
       "      <th>3</th>\n",
       "      <td>Data Analyst</td>\n",
       "      <td>111 - 181  (Glassdoor est.)</td>\n",
       "      <td>3.4</td>\n",
       "      <td>Sapphire Digital\\n3.4</td>\n",
       "      <td>Lyndhurst, NJ</td>\n",
       "      <td>201 to 500 employees</td>\n",
       "      <td>2019</td>\n",
       "      <td>Company - Private</td>\n",
       "      <td>Internet</td>\n",
       "      <td>Information Technology</td>\n",
       "      <td>Unknown / Non-Applicable</td>\n",
       "    </tr>\n",
       "    <tr>\n",
       "      <th>4</th>\n",
       "      <td>Director, Data Science</td>\n",
       "      <td>111 - 181  (Glassdoor est.)</td>\n",
       "      <td>3.4</td>\n",
       "      <td>United Entertainment Group\\n3.4</td>\n",
       "      <td>New York, NY</td>\n",
       "      <td>51 to 200 employees</td>\n",
       "      <td>2007</td>\n",
       "      <td>Company - Private</td>\n",
       "      <td>Advertising &amp; Marketing</td>\n",
       "      <td>Business Services</td>\n",
       "      <td>Unknown / Non-Applicable</td>\n",
       "    </tr>\n",
       "  </tbody>\n",
       "</table>\n",
       "</div>"
      ],
      "text/plain": [
       "                           Job Title               Salary Estimate  Rating  \\\n",
       "0              Senior Data Scientist   111 - 181  (Glassdoor est.)     3.5   \n",
       "1  Data Scientist, Product Analytics   111 - 181  (Glassdoor est.)     4.5   \n",
       "2               Data Science Manager   111 - 181  (Glassdoor est.)    -1.0   \n",
       "3                       Data Analyst   111 - 181  (Glassdoor est.)     3.4   \n",
       "4             Director, Data Science   111 - 181  (Glassdoor est.)     3.4   \n",
       "\n",
       "                      Company Name       Location                    Size  \\\n",
       "0                      Hopper\\n3.5   New York, NY   501 to 1000 employees   \n",
       "1                     Noom US\\n4.5   New York, NY  1001 to 5000 employees   \n",
       "2                         Decode_M   New York, NY       1 to 50 employees   \n",
       "3            Sapphire Digital\\n3.4  Lyndhurst, NJ    201 to 500 employees   \n",
       "4  United Entertainment Group\\n3.4   New York, NY     51 to 200 employees   \n",
       "\n",
       "  Founded  Type of ownership                   Industry  \\\n",
       "0    2007  Company - Private            Travel Agencies   \n",
       "1    2008  Company - Private  Health, Beauty, & Fitness   \n",
       "2      -1            Unknown                         -1   \n",
       "3    2019  Company - Private                   Internet   \n",
       "4    2007  Company - Private    Advertising & Marketing   \n",
       "\n",
       "                   Sector                   Revenue  \n",
       "0        Travel & Tourism  Unknown / Non-Applicable  \n",
       "1       Consumer Services  Unknown / Non-Applicable  \n",
       "2                      -1  Unknown / Non-Applicable  \n",
       "3  Information Technology  Unknown / Non-Applicable  \n",
       "4       Business Services  Unknown / Non-Applicable  "
      ]
     },
     "execution_count": 29,
     "metadata": {},
     "output_type": "execute_result"
    }
   ],
   "source": [
    "df1.head()"
   ]
  },
  {
   "cell_type": "markdown",
   "id": "7d54af67",
   "metadata": {},
   "source": [
    "now we want to find the average salary and apply it to the whole column\n",
    "so we use split function to create a list out of the string and then get the min and max and cast it to int and get the average salary"
   ]
  },
  {
   "cell_type": "markdown",
   "id": "ba17f39c",
   "metadata": {},
   "source": [
    "For spliting, we can either use lambda or create a simple splitter function and apply that.\n",
    "the function would be:\n",
    "\n",
    "    1)def splitter(a):\n",
    "        a=a.split()\n",
    "        return a\n",
    "    2)df1['Salary Estimate'].apply(splitter)  "
   ]
  },
  {
   "cell_type": "code",
   "execution_count": 30,
   "id": "ef21636a",
   "metadata": {},
   "outputs": [],
   "source": [
    "# split it\n",
    "df1['Salary Estimate'] = df1['Salary Estimate'].apply(lambda a: a.split())"
   ]
  },
  {
   "cell_type": "code",
   "execution_count": 31,
   "id": "1af175e4",
   "metadata": {},
   "outputs": [],
   "source": [
    "# we will consider the first index as a min and the last one a max_salary\n",
    "df1['Min_salary'] = df1['Salary Estimate'].apply(lambda a: a[0])\n",
    "df1['Max_salary'] = df1['Salary Estimate'].apply(lambda a: a[2])"
   ]
  },
  {
   "cell_type": "markdown",
   "id": "41acd2e8",
   "metadata": {},
   "source": [
    "For finding an average, we have to change the format of min_salary and max salary column to int\n",
    "because the format is object"
   ]
  },
  {
   "cell_type": "code",
   "execution_count": 32,
   "id": "8761856f",
   "metadata": {},
   "outputs": [],
   "source": [
    "# cast Min_salary and Max_salary to int and get the average salary\n",
    "df1['Min_salary'] = df1['Min_salary'].apply(lambda a:int(a))\n",
    "df1['Max_salary'] = df1['Max_salary'].astype(int)\n",
    "\n",
    "df1['Average_salary'] = (df1.Min_salary + df1.Max_salary)/2"
   ]
  },
  {
   "cell_type": "markdown",
   "id": "8aa7eca9",
   "metadata": {},
   "source": [
    "# Cleaning 'Location' :"
   ]
  },
  {
   "cell_type": "code",
   "execution_count": 33,
   "id": "d8d1fe2f",
   "metadata": {},
   "outputs": [],
   "source": [
    "# state: what state is the job in\n",
    "df1['State'] = df1['Location'].apply(lambda a: a.split()[-1])\n",
    "# remove Kingdom from state column\n",
    "df1 = df1[df1.State != 'kingdom']"
   ]
  },
  {
   "cell_type": "markdown",
   "id": "6cf4e229",
   "metadata": {},
   "source": [
    "# Cleaning 'Job Title':"
   ]
  },
  {
   "cell_type": "code",
   "execution_count": 34,
   "id": "d11e3a42",
   "metadata": {},
   "outputs": [
    {
     "data": {
      "text/plain": [
       "Data Scientist                                   632\n",
       "Data Analyst                                     337\n",
       "Data Engineer                                    305\n",
       "Senior Data Scientist                            127\n",
       "Machine Learning Engineer                         64\n",
       "                                                ... \n",
       "Scientist 2, Data Analytics                        1\n",
       "PD Downstream Sr Scientist                         1\n",
       "Data Analyst 3                                     1\n",
       "West University Place Data Science Tutor Jobs      1\n",
       "Research Engineering/ Scientist Assistant          1\n",
       "Name: Job Title, Length: 2803, dtype: int64"
      ]
     },
     "execution_count": 34,
     "metadata": {},
     "output_type": "execute_result"
    }
   ],
   "source": [
    "df1['Job Title'].value_counts()"
   ]
  },
  {
   "cell_type": "code",
   "execution_count": 35,
   "id": "dd0bd6c5",
   "metadata": {},
   "outputs": [],
   "source": [
    "def title_organizer(a):\n",
    "        \"\"\"\n",
    "        This function organizes the job title\n",
    "        \"\"\"\n",
    "        a = a.lower()\n",
    "        if ('data scientist' in a) or ('data science' in a) :\n",
    "            return 'data scientist'\n",
    "        elif 'data engineer' in a:\n",
    "            return 'data engineer'\n",
    "        elif 'deep learning' in a:\n",
    "            return 'deep learning engineer'\n",
    "        elif 'machine learning' in a:\n",
    "            return 'machine learning engineer'\n",
    "        elif 'director' in a:\n",
    "            return 'director'\n",
    "        elif 'manager' in a:\n",
    "            return 'manager'\n",
    "        elif 'analyst' in a:\n",
    "            return 'analyst'\n",
    "        elif 'researcher' in a:\n",
    "            return 'researcher'\n",
    "        else:\n",
    "            return 'other'"
   ]
  },
  {
   "cell_type": "code",
   "execution_count": 36,
   "id": "48b0d421",
   "metadata": {},
   "outputs": [],
   "source": [
    "df1['Job Title'] = df1['Job Title'].apply(title_organizer)"
   ]
  },
  {
   "cell_type": "code",
   "execution_count": 37,
   "id": "aff14a69",
   "metadata": {},
   "outputs": [],
   "source": [
    "# filter dataframe based on Rating column:\n",
    "df1 = df1[df1['Rating']!= -1]"
   ]
  },
  {
   "cell_type": "markdown",
   "id": "57c24491",
   "metadata": {},
   "source": [
    "now we cleaned our dataframe. so we can either drop unneccessarly columns or keep the necessary ones:\n",
    "    "
   ]
  },
  {
   "cell_type": "code",
   "execution_count": 38,
   "id": "75565a9c",
   "metadata": {},
   "outputs": [],
   "source": [
    "# drop\n",
    "# df1.drop(columns='Salary Estimate', inplace=True) \n",
    "# df1 = df1.drop(columns = ['Company Name','Location','Size', 'Founded', 'Type of ownership', 'Industry', 'Sector', 'Revenue', 'Min_Salary' , 'Max_Salary'])"
   ]
  },
  {
   "cell_type": "code",
   "execution_count": 39,
   "id": "564587e8",
   "metadata": {},
   "outputs": [],
   "source": [
    "cleaned_df = df1[['Job Title', 'Rating', 'Average_salary', 'State']]"
   ]
  },
  {
   "cell_type": "code",
   "execution_count": 40,
   "id": "20e06ecc",
   "metadata": {},
   "outputs": [
    {
     "name": "stdout",
     "output_type": "stream",
     "text": [
      "<class 'pandas.core.frame.DataFrame'>\n",
      "Int64Index: 4895 entries, 0 to 5887\n",
      "Data columns (total 4 columns):\n",
      " #   Column          Non-Null Count  Dtype  \n",
      "---  ------          --------------  -----  \n",
      " 0   Job Title       4895 non-null   object \n",
      " 1   Rating          4895 non-null   float64\n",
      " 2   Average_salary  4895 non-null   float64\n",
      " 3   State           4895 non-null   object \n",
      "dtypes: float64(2), object(2)\n",
      "memory usage: 191.2+ KB\n"
     ]
    }
   ],
   "source": [
    "cleaned_df.info()"
   ]
  },
  {
   "cell_type": "code",
   "execution_count": 42,
   "id": "65a60101",
   "metadata": {},
   "outputs": [
    {
     "data": {
      "text/html": [
       "<div>\n",
       "<style scoped>\n",
       "    .dataframe tbody tr th:only-of-type {\n",
       "        vertical-align: middle;\n",
       "    }\n",
       "\n",
       "    .dataframe tbody tr th {\n",
       "        vertical-align: top;\n",
       "    }\n",
       "\n",
       "    .dataframe thead th {\n",
       "        text-align: right;\n",
       "    }\n",
       "</style>\n",
       "<table border=\"1\" class=\"dataframe\">\n",
       "  <thead>\n",
       "    <tr style=\"text-align: right;\">\n",
       "      <th></th>\n",
       "      <th>Job Title</th>\n",
       "      <th>Rating</th>\n",
       "      <th>Average_salary</th>\n",
       "      <th>State</th>\n",
       "    </tr>\n",
       "  </thead>\n",
       "  <tbody>\n",
       "    <tr>\n",
       "      <th>0</th>\n",
       "      <td>data scientist</td>\n",
       "      <td>3.5</td>\n",
       "      <td>146.0</td>\n",
       "      <td>NY</td>\n",
       "    </tr>\n",
       "    <tr>\n",
       "      <th>1</th>\n",
       "      <td>data scientist</td>\n",
       "      <td>4.5</td>\n",
       "      <td>146.0</td>\n",
       "      <td>NY</td>\n",
       "    </tr>\n",
       "    <tr>\n",
       "      <th>3</th>\n",
       "      <td>analyst</td>\n",
       "      <td>3.4</td>\n",
       "      <td>146.0</td>\n",
       "      <td>NJ</td>\n",
       "    </tr>\n",
       "    <tr>\n",
       "      <th>4</th>\n",
       "      <td>data scientist</td>\n",
       "      <td>3.4</td>\n",
       "      <td>146.0</td>\n",
       "      <td>NY</td>\n",
       "    </tr>\n",
       "    <tr>\n",
       "      <th>5</th>\n",
       "      <td>data scientist</td>\n",
       "      <td>2.9</td>\n",
       "      <td>146.0</td>\n",
       "      <td>NY</td>\n",
       "    </tr>\n",
       "    <tr>\n",
       "      <th>...</th>\n",
       "      <td>...</td>\n",
       "      <td>...</td>\n",
       "      <td>...</td>\n",
       "      <td>...</td>\n",
       "    </tr>\n",
       "    <tr>\n",
       "      <th>5881</th>\n",
       "      <td>other</td>\n",
       "      <td>3.2</td>\n",
       "      <td>51.0</td>\n",
       "      <td>OH</td>\n",
       "    </tr>\n",
       "    <tr>\n",
       "      <th>5882</th>\n",
       "      <td>other</td>\n",
       "      <td>4.2</td>\n",
       "      <td>68.0</td>\n",
       "      <td>OH</td>\n",
       "    </tr>\n",
       "    <tr>\n",
       "      <th>5883</th>\n",
       "      <td>other</td>\n",
       "      <td>4.0</td>\n",
       "      <td>89.5</td>\n",
       "      <td>OH</td>\n",
       "    </tr>\n",
       "    <tr>\n",
       "      <th>5886</th>\n",
       "      <td>analyst</td>\n",
       "      <td>4.0</td>\n",
       "      <td>89.0</td>\n",
       "      <td>OH</td>\n",
       "    </tr>\n",
       "    <tr>\n",
       "      <th>5887</th>\n",
       "      <td>analyst</td>\n",
       "      <td>3.6</td>\n",
       "      <td>59.0</td>\n",
       "      <td>OH</td>\n",
       "    </tr>\n",
       "  </tbody>\n",
       "</table>\n",
       "<p>4895 rows × 4 columns</p>\n",
       "</div>"
      ],
      "text/plain": [
       "           Job Title  Rating  Average_salary State\n",
       "0     data scientist     3.5           146.0    NY\n",
       "1     data scientist     4.5           146.0    NY\n",
       "3            analyst     3.4           146.0    NJ\n",
       "4     data scientist     3.4           146.0    NY\n",
       "5     data scientist     2.9           146.0    NY\n",
       "...              ...     ...             ...   ...\n",
       "5881           other     3.2            51.0    OH\n",
       "5882           other     4.2            68.0    OH\n",
       "5883           other     4.0            89.5    OH\n",
       "5886         analyst     4.0            89.0    OH\n",
       "5887         analyst     3.6            59.0    OH\n",
       "\n",
       "[4895 rows x 4 columns]"
      ]
     },
     "execution_count": 42,
     "metadata": {},
     "output_type": "execute_result"
    }
   ],
   "source": [
    "cleaned_df"
   ]
  },
  {
   "cell_type": "markdown",
   "id": "c6d0c57c",
   "metadata": {},
   "source": [
    "# Exploratory Data Analysis (EDA):"
   ]
  },
  {
   "cell_type": "markdown",
   "id": "1d57a495",
   "metadata": {},
   "source": [
    "We want to plot the histogram of the continous salary\n",
    "either we can use 'Pandas' library or 'matplotlib' or 'seaborn'"
   ]
  },
  {
   "cell_type": "markdown",
   "id": "0db2f40f",
   "metadata": {},
   "source": [
    "Histrogram plot with 'Pandas':"
   ]
  },
  {
   "cell_type": "code",
   "execution_count": null,
   "id": "7bd03a06",
   "metadata": {},
   "outputs": [],
   "source": [
    "import pandas as pd"
   ]
  },
  {
   "cell_type": "code",
   "execution_count": 48,
   "id": "411ef80a",
   "metadata": {},
   "outputs": [
    {
     "data": {
      "text/plain": [
       "<Axes: >"
      ]
     },
     "execution_count": 48,
     "metadata": {},
     "output_type": "execute_result"
    },
    {
     "data": {
      "image/png": "[encoded data removed]",
      "text/plain": [
       "<Figure size 432x288 with 1 Axes>"
      ]
     },
     "metadata": {
      "needs_background": "light"
     },
     "output_type": "display_data"
    }
   ],
   "source": [
    "df1['Average_salary'].hist(bins=5, color='green')"
   ]
  },
  {
   "cell_type": "markdown",
   "id": "18ee136b",
   "metadata": {},
   "source": [
    "Histrogram plot with 'seaborn':"
   ]
  },
  {
   "cell_type": "code",
   "execution_count": 49,
   "id": "9841d7c9",
   "metadata": {},
   "outputs": [],
   "source": [
    "import seaborn as sns"
   ]
  },
  {
   "cell_type": "code",
   "execution_count": 57,
   "id": "57e38d4b",
   "metadata": {},
   "outputs": [
    {
     "data": {
      "text/plain": [
       "<seaborn.axisgrid.FacetGrid at 0x7fdf19ea96d0>"
      ]
     },
     "execution_count": 57,
     "metadata": {},
     "output_type": "execute_result"
    },
    {
     "data": {
      "image/png": "[encoded data removed]",
      "text/plain": [
       "<Figure size 360x360 with 1 Axes>"
      ]
     },
     "metadata": {
      "needs_background": "light"
     },
     "output_type": "display_data"
    }
   ],
   "source": [
    "sns.displot(x='Rating', data=cleaned_df , bins=10)"
   ]
  },
  {
   "cell_type": "code",
   "execution_count": 58,
   "id": "526d8334",
   "metadata": {},
   "outputs": [
    {
     "data": {
      "text/plain": [
       "<Axes: xlabel='Job Title', ylabel='count'>"
      ]
     },
     "execution_count": 58,
     "metadata": {},
     "output_type": "execute_result"
    },
    {
     "data": {
      "image/png": "[encoded data removed]",
      "text/plain": [
       "<Figure size 432x288 with 1 Axes>"
      ]
     },
     "metadata": {
      "needs_background": "light"
     },
     "output_type": "display_data"
    }
   ],
   "source": [
    "sns.countplot(x='Job Title', data=cleaned_df)"
   ]
  },
  {
   "cell_type": "code",
   "execution_count": 52,
   "id": "9fa2d302",
   "metadata": {},
   "outputs": [],
   "source": [
    "import matplotlib.pyplot as plt"
   ]
  },
  {
   "cell_type": "code",
   "execution_count": 59,
   "id": "71ef14ae",
   "metadata": {},
   "outputs": [
    {
     "data": {
      "text/plain": [
       "(array([0, 1, 2, 3, 4, 5, 6, 7, 8]),\n",
       " [Text(0, 0, 'data scientist'),\n",
       "  Text(1, 0, 'analyst'),\n",
       "  Text(2, 0, 'researcher'),\n",
       "  Text(3, 0, 'other'),\n",
       "  Text(4, 0, 'data engineer'),\n",
       "  Text(5, 0, 'manager'),\n",
       "  Text(6, 0, 'machine learning engineer'),\n",
       "  Text(7, 0, 'director'),\n",
       "  Text(8, 0, 'deep learning engineer')])"
      ]
     },
     "execution_count": 59,
     "metadata": {},
     "output_type": "execute_result"
    },
    {
     "data": {
      "image/png": "[encoded data removed]",
      "text/plain": [
       "<Figure size 432x288 with 1 Axes>"
      ]
     },
     "metadata": {
      "needs_background": "light"
     },
     "output_type": "display_data"
    }
   ],
   "source": [
    "sns.countplot(x='Job Title', data=cleaned_df)\n",
    "# asamiye nemodare x ro 45 darage taghir mide ke betonim title ro bebinim\n",
    "plt.xticks(rotation = 45)"
   ]
  },
  {
   "cell_type": "code",
   "execution_count": 61,
   "id": "b3251d5e",
   "metadata": {},
   "outputs": [
    {
     "data": {
      "text/plain": [
       "<Axes: xlabel='Rating'>"
      ]
     },
     "execution_count": 61,
     "metadata": {},
     "output_type": "execute_result"
    },
    {
     "data": {
      "image/png": "[encoded data removed]",
      "text/plain": [
       "<Figure size 432x288 with 1 Axes>"
      ]
     },
     "metadata": {
      "needs_background": "light"
     },
     "output_type": "display_data"
    }
   ],
   "source": [
    "sns.boxplot(x='Rating', data=cleaned_df)"
   ]
  },
  {
   "cell_type": "code",
   "execution_count": 55,
   "id": "f57f6980",
   "metadata": {},
   "outputs": [
    {
     "data": {
      "text/plain": [
       "<seaborn.axisgrid.PairGrid at 0x7fdef9ac09a0>"
      ]
     },
     "execution_count": 55,
     "metadata": {},
     "output_type": "execute_result"
    },
    {
     "data": {
      "image/png": "[encoded data removed]",
      "text/plain": [
       "<Figure size 360x360 with 6 Axes>"
      ]
     },
     "metadata": {
      "needs_background": "light"
     },
     "output_type": "display_data"
    }
   ],
   "source": [
    "sns.pairplot(cleaned_df)"
   ]
  },
  {
   "cell_type": "code",
   "execution_count": 60,
   "id": "09f4a20d",
   "metadata": {},
   "outputs": [
    {
     "data": {
      "text/plain": [
       "<Axes: xlabel='Rating', ylabel='Average_salary'>"
      ]
     },
     "execution_count": 60,
     "metadata": {},
     "output_type": "execute_result"
    },
    {
     "data": {
      "image/png": "[encoded data removed]",
      "text/plain": [
       "<Figure size 432x288 with 1 Axes>"
      ]
     },
     "metadata": {
      "needs_background": "light"
     },
     "output_type": "display_data"
    }
   ],
   "source": [
    "sns.scatterplot(x='Rating', y='Average_salary', data = cleaned_df , hue='Job Title')"
   ]
  },
  {
   "cell_type": "markdown",
   "id": "07239c4f",
   "metadata": {},
   "source": [
    "# Feature Engineering:"
   ]
  },
  {
   "cell_type": "markdown",
   "id": "d6509b7e",
   "metadata": {},
   "source": [
    "For Machine Learning Algorithms to be able to use our data, we must ensure that all values are numerical\n",
    "and there are no empty columns, as these algorithms are mathematical and can only process numbers, not objects"
   ]
  },
  {
   "cell_type": "markdown",
   "id": "ad003652",
   "metadata": {},
   "source": [
    "\n",
    "for the objects in the dataframe(ex, Job Title) we're going to assign a code to that with get_dummies\n",
    "with following code the specific code will be assigned to JOB TITLE columns.\n"
   ]
  },
  {
   "cell_type": "code",
   "execution_count": 87,
   "id": "7bdfe50a",
   "metadata": {},
   "outputs": [],
   "source": [
    "preprocessed_df = pd.get_dummies(cleaned_df , columns=['Job Title', 'State'])"
   ]
  },
  {
   "cell_type": "code",
   "execution_count": 88,
   "id": "93564cdf",
   "metadata": {},
   "outputs": [
    {
     "data": {
      "text/html": [
       "<div>\n",
       "<style scoped>\n",
       "    .dataframe tbody tr th:only-of-type {\n",
       "        vertical-align: middle;\n",
       "    }\n",
       "\n",
       "    .dataframe tbody tr th {\n",
       "        vertical-align: top;\n",
       "    }\n",
       "\n",
       "    .dataframe thead th {\n",
       "        text-align: right;\n",
       "    }\n",
       "</style>\n",
       "<table border=\"1\" class=\"dataframe\">\n",
       "  <thead>\n",
       "    <tr style=\"text-align: right;\">\n",
       "      <th></th>\n",
       "      <th>Rating</th>\n",
       "      <th>Average_salary</th>\n",
       "      <th>Job Title_analyst</th>\n",
       "      <th>Job Title_data engineer</th>\n",
       "      <th>Job Title_data scientist</th>\n",
       "      <th>Job Title_deep learning engineer</th>\n",
       "      <th>Job Title_director</th>\n",
       "      <th>Job Title_machine learning engineer</th>\n",
       "      <th>Job Title_manager</th>\n",
       "      <th>Job Title_other</th>\n",
       "      <th>...</th>\n",
       "      <th>State_NC</th>\n",
       "      <th>State_NH</th>\n",
       "      <th>State_NJ</th>\n",
       "      <th>State_NM</th>\n",
       "      <th>State_NY</th>\n",
       "      <th>State_OH</th>\n",
       "      <th>State_PA</th>\n",
       "      <th>State_TX</th>\n",
       "      <th>State_VA</th>\n",
       "      <th>State_WI</th>\n",
       "    </tr>\n",
       "  </thead>\n",
       "  <tbody>\n",
       "    <tr>\n",
       "      <th>0</th>\n",
       "      <td>3.5</td>\n",
       "      <td>146.0</td>\n",
       "      <td>0</td>\n",
       "      <td>0</td>\n",
       "      <td>1</td>\n",
       "      <td>0</td>\n",
       "      <td>0</td>\n",
       "      <td>0</td>\n",
       "      <td>0</td>\n",
       "      <td>0</td>\n",
       "      <td>...</td>\n",
       "      <td>0</td>\n",
       "      <td>0</td>\n",
       "      <td>0</td>\n",
       "      <td>0</td>\n",
       "      <td>1</td>\n",
       "      <td>0</td>\n",
       "      <td>0</td>\n",
       "      <td>0</td>\n",
       "      <td>0</td>\n",
       "      <td>0</td>\n",
       "    </tr>\n",
       "    <tr>\n",
       "      <th>1</th>\n",
       "      <td>4.5</td>\n",
       "      <td>146.0</td>\n",
       "      <td>0</td>\n",
       "      <td>0</td>\n",
       "      <td>1</td>\n",
       "      <td>0</td>\n",
       "      <td>0</td>\n",
       "      <td>0</td>\n",
       "      <td>0</td>\n",
       "      <td>0</td>\n",
       "      <td>...</td>\n",
       "      <td>0</td>\n",
       "      <td>0</td>\n",
       "      <td>0</td>\n",
       "      <td>0</td>\n",
       "      <td>1</td>\n",
       "      <td>0</td>\n",
       "      <td>0</td>\n",
       "      <td>0</td>\n",
       "      <td>0</td>\n",
       "      <td>0</td>\n",
       "    </tr>\n",
       "    <tr>\n",
       "      <th>3</th>\n",
       "      <td>3.4</td>\n",
       "      <td>146.0</td>\n",
       "      <td>1</td>\n",
       "      <td>0</td>\n",
       "      <td>0</td>\n",
       "      <td>0</td>\n",
       "      <td>0</td>\n",
       "      <td>0</td>\n",
       "      <td>0</td>\n",
       "      <td>0</td>\n",
       "      <td>...</td>\n",
       "      <td>0</td>\n",
       "      <td>0</td>\n",
       "      <td>1</td>\n",
       "      <td>0</td>\n",
       "      <td>0</td>\n",
       "      <td>0</td>\n",
       "      <td>0</td>\n",
       "      <td>0</td>\n",
       "      <td>0</td>\n",
       "      <td>0</td>\n",
       "    </tr>\n",
       "    <tr>\n",
       "      <th>4</th>\n",
       "      <td>3.4</td>\n",
       "      <td>146.0</td>\n",
       "      <td>0</td>\n",
       "      <td>0</td>\n",
       "      <td>1</td>\n",
       "      <td>0</td>\n",
       "      <td>0</td>\n",
       "      <td>0</td>\n",
       "      <td>0</td>\n",
       "      <td>0</td>\n",
       "      <td>...</td>\n",
       "      <td>0</td>\n",
       "      <td>0</td>\n",
       "      <td>0</td>\n",
       "      <td>0</td>\n",
       "      <td>1</td>\n",
       "      <td>0</td>\n",
       "      <td>0</td>\n",
       "      <td>0</td>\n",
       "      <td>0</td>\n",
       "      <td>0</td>\n",
       "    </tr>\n",
       "    <tr>\n",
       "      <th>5</th>\n",
       "      <td>2.9</td>\n",
       "      <td>146.0</td>\n",
       "      <td>0</td>\n",
       "      <td>0</td>\n",
       "      <td>1</td>\n",
       "      <td>0</td>\n",
       "      <td>0</td>\n",
       "      <td>0</td>\n",
       "      <td>0</td>\n",
       "      <td>0</td>\n",
       "      <td>...</td>\n",
       "      <td>0</td>\n",
       "      <td>0</td>\n",
       "      <td>0</td>\n",
       "      <td>0</td>\n",
       "      <td>1</td>\n",
       "      <td>0</td>\n",
       "      <td>0</td>\n",
       "      <td>0</td>\n",
       "      <td>0</td>\n",
       "      <td>0</td>\n",
       "    </tr>\n",
       "    <tr>\n",
       "      <th>...</th>\n",
       "      <td>...</td>\n",
       "      <td>...</td>\n",
       "      <td>...</td>\n",
       "      <td>...</td>\n",
       "      <td>...</td>\n",
       "      <td>...</td>\n",
       "      <td>...</td>\n",
       "      <td>...</td>\n",
       "      <td>...</td>\n",
       "      <td>...</td>\n",
       "      <td>...</td>\n",
       "      <td>...</td>\n",
       "      <td>...</td>\n",
       "      <td>...</td>\n",
       "      <td>...</td>\n",
       "      <td>...</td>\n",
       "      <td>...</td>\n",
       "      <td>...</td>\n",
       "      <td>...</td>\n",
       "      <td>...</td>\n",
       "      <td>...</td>\n",
       "    </tr>\n",
       "    <tr>\n",
       "      <th>5881</th>\n",
       "      <td>3.2</td>\n",
       "      <td>51.0</td>\n",
       "      <td>0</td>\n",
       "      <td>0</td>\n",
       "      <td>0</td>\n",
       "      <td>0</td>\n",
       "      <td>0</td>\n",
       "      <td>0</td>\n",
       "      <td>0</td>\n",
       "      <td>1</td>\n",
       "      <td>...</td>\n",
       "      <td>0</td>\n",
       "      <td>0</td>\n",
       "      <td>0</td>\n",
       "      <td>0</td>\n",
       "      <td>0</td>\n",
       "      <td>1</td>\n",
       "      <td>0</td>\n",
       "      <td>0</td>\n",
       "      <td>0</td>\n",
       "      <td>0</td>\n",
       "    </tr>\n",
       "    <tr>\n",
       "      <th>5882</th>\n",
       "      <td>4.2</td>\n",
       "      <td>68.0</td>\n",
       "      <td>0</td>\n",
       "      <td>0</td>\n",
       "      <td>0</td>\n",
       "      <td>0</td>\n",
       "      <td>0</td>\n",
       "      <td>0</td>\n",
       "      <td>0</td>\n",
       "      <td>1</td>\n",
       "      <td>...</td>\n",
       "      <td>0</td>\n",
       "      <td>0</td>\n",
       "      <td>0</td>\n",
       "      <td>0</td>\n",
       "      <td>0</td>\n",
       "      <td>1</td>\n",
       "      <td>0</td>\n",
       "      <td>0</td>\n",
       "      <td>0</td>\n",
       "      <td>0</td>\n",
       "    </tr>\n",
       "    <tr>\n",
       "      <th>5883</th>\n",
       "      <td>4.0</td>\n",
       "      <td>89.5</td>\n",
       "      <td>0</td>\n",
       "      <td>0</td>\n",
       "      <td>0</td>\n",
       "      <td>0</td>\n",
       "      <td>0</td>\n",
       "      <td>0</td>\n",
       "      <td>0</td>\n",
       "      <td>1</td>\n",
       "      <td>...</td>\n",
       "      <td>0</td>\n",
       "      <td>0</td>\n",
       "      <td>0</td>\n",
       "      <td>0</td>\n",
       "      <td>0</td>\n",
       "      <td>1</td>\n",
       "      <td>0</td>\n",
       "      <td>0</td>\n",
       "      <td>0</td>\n",
       "      <td>0</td>\n",
       "    </tr>\n",
       "    <tr>\n",
       "      <th>5886</th>\n",
       "      <td>4.0</td>\n",
       "      <td>89.0</td>\n",
       "      <td>1</td>\n",
       "      <td>0</td>\n",
       "      <td>0</td>\n",
       "      <td>0</td>\n",
       "      <td>0</td>\n",
       "      <td>0</td>\n",
       "      <td>0</td>\n",
       "      <td>0</td>\n",
       "      <td>...</td>\n",
       "      <td>0</td>\n",
       "      <td>0</td>\n",
       "      <td>0</td>\n",
       "      <td>0</td>\n",
       "      <td>0</td>\n",
       "      <td>1</td>\n",
       "      <td>0</td>\n",
       "      <td>0</td>\n",
       "      <td>0</td>\n",
       "      <td>0</td>\n",
       "    </tr>\n",
       "    <tr>\n",
       "      <th>5887</th>\n",
       "      <td>3.6</td>\n",
       "      <td>59.0</td>\n",
       "      <td>1</td>\n",
       "      <td>0</td>\n",
       "      <td>0</td>\n",
       "      <td>0</td>\n",
       "      <td>0</td>\n",
       "      <td>0</td>\n",
       "      <td>0</td>\n",
       "      <td>0</td>\n",
       "      <td>...</td>\n",
       "      <td>0</td>\n",
       "      <td>0</td>\n",
       "      <td>0</td>\n",
       "      <td>0</td>\n",
       "      <td>0</td>\n",
       "      <td>1</td>\n",
       "      <td>0</td>\n",
       "      <td>0</td>\n",
       "      <td>0</td>\n",
       "      <td>0</td>\n",
       "    </tr>\n",
       "  </tbody>\n",
       "</table>\n",
       "<p>4895 rows × 35 columns</p>\n",
       "</div>"
      ],
      "text/plain": [
       "      Rating  Average_salary  Job Title_analyst  Job Title_data engineer  \\\n",
       "0        3.5           146.0                  0                        0   \n",
       "1        4.5           146.0                  0                        0   \n",
       "3        3.4           146.0                  1                        0   \n",
       "4        3.4           146.0                  0                        0   \n",
       "5        2.9           146.0                  0                        0   \n",
       "...      ...             ...                ...                      ...   \n",
       "5881     3.2            51.0                  0                        0   \n",
       "5882     4.2            68.0                  0                        0   \n",
       "5883     4.0            89.5                  0                        0   \n",
       "5886     4.0            89.0                  1                        0   \n",
       "5887     3.6            59.0                  1                        0   \n",
       "\n",
       "      Job Title_data scientist  Job Title_deep learning engineer  \\\n",
       "0                            1                                 0   \n",
       "1                            1                                 0   \n",
       "3                            0                                 0   \n",
       "4                            1                                 0   \n",
       "5                            1                                 0   \n",
       "...                        ...                               ...   \n",
       "5881                         0                                 0   \n",
       "5882                         0                                 0   \n",
       "5883                         0                                 0   \n",
       "5886                         0                                 0   \n",
       "5887                         0                                 0   \n",
       "\n",
       "      Job Title_director  Job Title_machine learning engineer  \\\n",
       "0                      0                                    0   \n",
       "1                      0                                    0   \n",
       "3                      0                                    0   \n",
       "4                      0                                    0   \n",
       "5                      0                                    0   \n",
       "...                  ...                                  ...   \n",
       "5881                   0                                    0   \n",
       "5882                   0                                    0   \n",
       "5883                   0                                    0   \n",
       "5886                   0                                    0   \n",
       "5887                   0                                    0   \n",
       "\n",
       "      Job Title_manager  Job Title_other  ...  State_NC  State_NH  State_NJ  \\\n",
       "0                     0                0  ...         0         0         0   \n",
       "1                     0                0  ...         0         0         0   \n",
       "3                     0                0  ...         0         0         1   \n",
       "4                     0                0  ...         0         0         0   \n",
       "5                     0                0  ...         0         0         0   \n",
       "...                 ...              ...  ...       ...       ...       ...   \n",
       "5881                  0                1  ...         0         0         0   \n",
       "5882                  0                1  ...         0         0         0   \n",
       "5883                  0                1  ...         0         0         0   \n",
       "5886                  0                0  ...         0         0         0   \n",
       "5887                  0                0  ...         0         0         0   \n",
       "\n",
       "      State_NM  State_NY  State_OH  State_PA  State_TX  State_VA  State_WI  \n",
       "0            0         1         0         0         0         0         0  \n",
       "1            0         1         0         0         0         0         0  \n",
       "3            0         0         0         0         0         0         0  \n",
       "4            0         1         0         0         0         0         0  \n",
       "5            0         1         0         0         0         0         0  \n",
       "...        ...       ...       ...       ...       ...       ...       ...  \n",
       "5881         0         0         1         0         0         0         0  \n",
       "5882         0         0         1         0         0         0         0  \n",
       "5883         0         0         1         0         0         0         0  \n",
       "5886         0         0         1         0         0         0         0  \n",
       "5887         0         0         1         0         0         0         0  \n",
       "\n",
       "[4895 rows x 35 columns]"
      ]
     },
     "execution_count": 88,
     "metadata": {},
     "output_type": "execute_result"
    }
   ],
   "source": [
    "preprocessed_df"
   ]
  },
  {
   "cell_type": "markdown",
   "id": "cf234d73",
   "metadata": {},
   "source": [
    " we should separate our dependant and indepandant variables:\n",
    " \n",
    " x= dependant variable\n",
    "\n",
    "we will drop the dependant variable which is our average salary  and put all of other variables in to 'x' and put averge salary which is our dependant variable into 'y'\n",
    "\n"
   ]
  },
  {
   "cell_type": "code",
   "execution_count": 89,
   "id": "82b07f13",
   "metadata": {},
   "outputs": [],
   "source": [
    "x = preprocessed_df.drop(columns = 'Average_salary')"
   ]
  },
  {
   "cell_type": "code",
   "execution_count": 90,
   "id": "c773a421",
   "metadata": {},
   "outputs": [],
   "source": [
    "y = preprocessed_df['Average_salary']"
   ]
  },
  {
   "cell_type": "markdown",
   "id": "3d897975",
   "metadata": {},
   "source": [
    "# Modeling:"
   ]
  },
  {
   "cell_type": "markdown",
   "id": "2e3f94c5",
   "metadata": {},
   "source": [
    " Then we devide our dataset into 2 categories, Training set and testing set with scikitlearn library\n",
    "to get the same random result we set the random_state 101."
   ]
  },
  {
   "cell_type": "code",
   "execution_count": 121,
   "id": "694c8780",
   "metadata": {},
   "outputs": [],
   "source": [
    "x_train, x_test, y_train, y_test = train_test_split(x, y, test_size=0.4 , random_state = 101)"
   ]
  },
  {
   "cell_type": "code",
   "execution_count": 122,
   "id": "aa2d7337",
   "metadata": {},
   "outputs": [],
   "source": [
    "lr = LinearRegression()"
   ]
  },
  {
   "cell_type": "code",
   "execution_count": 123,
   "id": "6161eb40",
   "metadata": {},
   "outputs": [
    {
     "data": {
      "text/html": [
       "<style>#sk-container-id-6 {color: black;}#sk-container-id-6 pre{padding: 0;}#sk-container-id-6 div.sk-toggleable {background-color: white;}#sk-container-id-6 label.sk-toggleable__label {cursor: pointer;display: block;width: 100%;margin-bottom: 0;padding: 0.3em;box-sizing: border-box;text-align: center;}#sk-container-id-6 label.sk-toggleable__label-arrow:before {content: \"▸\";float: left;margin-right: 0.25em;color: #696969;}#sk-container-id-6 label.sk-toggleable__label-arrow:hover:before {color: black;}#sk-container-id-6 div.sk-estimator:hover label.sk-toggleable__label-arrow:before {color: black;}#sk-container-id-6 div.sk-toggleable__content {max-height: 0;max-width: 0;overflow: hidden;text-align: left;background-color: #f0f8ff;}#sk-container-id-6 div.sk-toggleable__content pre {margin: 0.2em;color: black;border-radius: 0.25em;background-color: #f0f8ff;}#sk-container-id-6 input.sk-toggleable__control:checked~div.sk-toggleable__content {max-height: 200px;max-width: 100%;overflow: auto;}#sk-container-id-6 input.sk-toggleable__control:checked~label.sk-toggleable__label-arrow:before {content: \"▾\";}#sk-container-id-6 div.sk-estimator input.sk-toggleable__control:checked~label.sk-toggleable__label {background-color: #d4ebff;}#sk-container-id-6 div.sk-label input.sk-toggleable__control:checked~label.sk-toggleable__label {background-color: #d4ebff;}#sk-container-id-6 input.sk-hidden--visually {border: 0;clip: rect(1px 1px 1px 1px);clip: rect(1px, 1px, 1px, 1px);height: 1px;margin: -1px;overflow: hidden;padding: 0;position: absolute;width: 1px;}#sk-container-id-6 div.sk-estimator {font-family: monospace;background-color: #f0f8ff;border: 1px dotted black;border-radius: 0.25em;box-sizing: border-box;margin-bottom: 0.5em;}#sk-container-id-6 div.sk-estimator:hover {background-color: #d4ebff;}#sk-container-id-6 div.sk-parallel-item::after {content: \"\";width: 100%;border-bottom: 1px solid gray;flex-grow: 1;}#sk-container-id-6 div.sk-label:hover label.sk-toggleable__label {background-color: #d4ebff;}#sk-container-id-6 div.sk-serial::before {content: \"\";position: absolute;border-left: 1px solid gray;box-sizing: border-box;top: 0;bottom: 0;left: 50%;z-index: 0;}#sk-container-id-6 div.sk-serial {display: flex;flex-direction: column;align-items: center;background-color: white;padding-right: 0.2em;padding-left: 0.2em;position: relative;}#sk-container-id-6 div.sk-item {position: relative;z-index: 1;}#sk-container-id-6 div.sk-parallel {display: flex;align-items: stretch;justify-content: center;background-color: white;position: relative;}#sk-container-id-6 div.sk-item::before, #sk-container-id-6 div.sk-parallel-item::before {content: \"\";position: absolute;border-left: 1px solid gray;box-sizing: border-box;top: 0;bottom: 0;left: 50%;z-index: -1;}#sk-container-id-6 div.sk-parallel-item {display: flex;flex-direction: column;z-index: 1;position: relative;background-color: white;}#sk-container-id-6 div.sk-parallel-item:first-child::after {align-self: flex-end;width: 50%;}#sk-container-id-6 div.sk-parallel-item:last-child::after {align-self: flex-start;width: 50%;}#sk-container-id-6 div.sk-parallel-item:only-child::after {width: 0;}#sk-container-id-6 div.sk-dashed-wrapped {border: 1px dashed gray;margin: 0 0.4em 0.5em 0.4em;box-sizing: border-box;padding-bottom: 0.4em;background-color: white;}#sk-container-id-6 div.sk-label label {font-family: monospace;font-weight: bold;display: inline-block;line-height: 1.2em;}#sk-container-id-6 div.sk-label-container {text-align: center;}#sk-container-id-6 div.sk-container {/* jupyter's `normalize.less` sets `[hidden] { display: none; }` but bootstrap.min.css set `[hidden] { display: none !important; }` so we also need the `!important` here to be able to override the default hidden behavior on the sphinx rendered scikit-learn.org. See: https://github.com/scikit-learn/scikit-learn/issues/21755 */display: inline-block !important;position: relative;}#sk-container-id-6 div.sk-text-repr-fallback {display: none;}</style><div id=\"sk-container-id-6\" class=\"sk-top-container\"><div class=\"sk-text-repr-fallback\"><pre>LinearRegression()</pre><b>In a Jupyter environment, please rerun this cell to show the HTML representation or trust the notebook. <br />On GitHub, the HTML representation is unable to render, please try loading this page with nbviewer.org.</b></div><div class=\"sk-container\" hidden><div class=\"sk-item\"><div class=\"sk-estimator sk-toggleable\"><input class=\"sk-toggleable__control sk-hidden--visually\" id=\"sk-estimator-id-6\" type=\"checkbox\" checked><label for=\"sk-estimator-id-6\" class=\"sk-toggleable__label sk-toggleable__label-arrow\">LinearRegression</label><div class=\"sk-toggleable__content\"><pre>LinearRegression()</pre></div></div></div></div></div>"
      ],
      "text/plain": [
       "LinearRegression()"
      ]
     },
     "execution_count": 123,
     "metadata": {},
     "output_type": "execute_result"
    }
   ],
   "source": [
    "lr.fit(x_train,y_train)"
   ]
  },
  {
   "cell_type": "code",
   "execution_count": 124,
   "id": "75e3717e",
   "metadata": {},
   "outputs": [
    {
     "name": "stdout",
     "output_type": "stream",
     "text": [
      "-184086287434129.1\n"
     ]
    }
   ],
   "source": [
    "# print the intercept(b0)\n",
    "print(lr.intercept_)"
   ]
  },
  {
   "cell_type": "code",
   "execution_count": 125,
   "id": "d153bf3b",
   "metadata": {},
   "outputs": [
    {
     "name": "stdout",
     "output_type": "stream",
     "text": [
      "[ 2.18869742e+00 -2.64313155e+14 -2.64313155e+14 -2.64313155e+14\n",
      " -2.64313155e+14 -2.64313155e+14 -2.64313155e+14 -2.64313155e+14\n",
      " -2.64313155e+14 -2.64313155e+14  4.48399442e+14  4.48399442e+14\n",
      "  4.48399442e+14  4.48399442e+14  4.48399442e+14  4.48399442e+14\n",
      "  4.48399442e+14 -3.07129938e+13  4.48399442e+14  4.48399442e+14\n",
      "  4.48399442e+14  4.48399442e+14  4.48399442e+14  4.48399442e+14\n",
      " -2.06035443e+12  4.48399442e+14  4.48399442e+14 -1.27453180e+12\n",
      "  4.48399442e+14  4.48399442e+14  4.48399442e+14  4.48399442e+14\n",
      "  4.48399442e+14  4.48399442e+14]\n"
     ]
    }
   ],
   "source": [
    "# print the coefficients(b1, b2, ...)\n",
    "print(lr.coef_)"
   ]
  },
  {
   "cell_type": "markdown",
   "id": "5d83fc37",
   "metadata": {},
   "source": [
    "Now we want to test the model. we give the x_test to the model and compare the result to y and \n",
    "y_test"
   ]
  },
  {
   "cell_type": "code",
   "execution_count": 126,
   "id": "39b55727",
   "metadata": {},
   "outputs": [
    {
     "data": {
      "text/plain": [
       "array([ 95.46875, 128.5625 ,  85.65625, ...,  88.625  ,  83.125  ,\n",
       "        94.28125])"
      ]
     },
     "execution_count": 126,
     "metadata": {},
     "output_type": "execute_result"
    }
   ],
   "source": [
    "# Prediction\n",
    "predictions = lr.predict(x_test)\n",
    "predictions"
   ]
  },
  {
   "cell_type": "code",
   "execution_count": 127,
   "id": "b5b80caa",
   "metadata": {},
   "outputs": [
    {
     "data": {
      "text/plain": [
       "3761    131.5\n",
       "2249    124.0\n",
       "4581    119.0\n",
       "4635     81.0\n",
       "3107    159.5\n",
       "        ...  \n",
       "1648     68.5\n",
       "573     109.0\n",
       "2000     73.0\n",
       "5619     91.5\n",
       "2733     61.5\n",
       "Name: Average_salary, Length: 1958, dtype: float64"
      ]
     },
     "execution_count": 127,
     "metadata": {},
     "output_type": "execute_result"
    }
   ],
   "source": [
    "y_test"
   ]
  },
  {
   "cell_type": "markdown",
   "id": "fad62f30",
   "metadata": {},
   "source": [
    "we're going to substract the prediction values by model from y_test to see whether or model is good or not:\n"
   ]
  },
  {
   "cell_type": "code",
   "execution_count": 128,
   "id": "a6ca1de5",
   "metadata": {},
   "outputs": [],
   "source": [
    "residual = predictions - y_test"
   ]
  },
  {
   "cell_type": "code",
   "execution_count": 129,
   "id": "f636885e",
   "metadata": {},
   "outputs": [
    {
     "data": {
      "text/plain": [
       "3761   -36.03125\n",
       "2249     4.56250\n",
       "4581   -33.34375\n",
       "4635     4.21875\n",
       "3107   -35.50000\n",
       "          ...   \n",
       "1648    19.15625\n",
       "573     24.59375\n",
       "2000    15.62500\n",
       "5619    -8.37500\n",
       "2733    32.78125\n",
       "Name: Average_salary, Length: 1958, dtype: float64"
      ]
     },
     "execution_count": 129,
     "metadata": {},
     "output_type": "execute_result"
    }
   ],
   "source": [
    "residual"
   ]
  },
  {
   "cell_type": "code",
   "execution_count": 130,
   "id": "86d03da6",
   "metadata": {},
   "outputs": [
    {
     "data": {
      "text/plain": [
       "<Axes: xlabel='Average_salary'>"
      ]
     },
     "execution_count": 130,
     "metadata": {},
     "output_type": "execute_result"
    },
    {
     "data": {
      "image/png": "[encoded data removed]",
      "text/plain": [
       "<Figure size 432x288 with 1 Axes>"
      ]
     },
     "metadata": {
      "needs_background": "light"
     },
     "output_type": "display_data"
    }
   ],
   "source": [
    "sns.scatterplot(x=y_test , y=predictions)\n"
   ]
  },
  {
   "cell_type": "markdown",
   "id": "d71911c3",
   "metadata": {},
   "source": [
    "Mean Absolout Error(MAE):\n",
    "    \n",
    "is a matrix that we can see how accurate is our predicted model."
   ]
  },
  {
   "cell_type": "code",
   "execution_count": 131,
   "id": "9235230d",
   "metadata": {},
   "outputs": [],
   "source": [
    "from sklearn import metrics"
   ]
  },
  {
   "cell_type": "code",
   "execution_count": 133,
   "id": "7e6aebf4",
   "metadata": {},
   "outputs": [
    {
     "name": "stdout",
     "output_type": "stream",
     "text": [
      "MAE: 704415836278.7004\n"
     ]
    }
   ],
   "source": [
    "print('MAE:', mean_absolute_error(y_test, predictions))"
   ]
  },
  {
   "cell_type": "markdown",
   "id": "87720747",
   "metadata": {},
   "source": [
    "# Save the Model:"
   ]
  },
  {
   "cell_type": "code",
   "execution_count": 135,
   "id": "229bd64c",
   "metadata": {},
   "outputs": [],
   "source": [
    "pickle.dump(lr, open('Salary_Estimater.pkl' , 'wb'))"
   ]
  },
  {
   "cell_type": "code",
   "execution_count": null,
   "id": "cd750c77",
   "metadata": {},
   "outputs": [],
   "source": []
  }
 ],
 "metadata": {
  "kernelspec": {
   "display_name": "Python 3",
   "language": "python",
   "name": "python3"
  },
  "language_info": {
   "codemirror_mode": {
    "name": "ipython",
    "version": 3
   },
   "file_extension": ".py",
   "mimetype": "text/x-python",
   "name": "python",
   "nbconvert_exporter": "python",
   "pygments_lexer": "ipython3",
   "version": "3.8.8"
  }
 },
 "nbformat": 4,
 "nbformat_minor": 5
}
