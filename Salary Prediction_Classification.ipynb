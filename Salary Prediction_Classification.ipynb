{
 "cells": [
  {
   "cell_type": "markdown",
   "id": "4717aa30",
   "metadata": {},
   "source": [
    "# Understanding the Objective"
   ]
  },
  {
   "cell_type": "markdown",
   "id": "3ed9102e",
   "metadata": {},
   "source": [
    "The goal is to predict whether the salary for data-related positions, based on location, company reviews and job title is satisfied or not."
   ]
  },
  {
   "cell_type": "markdown",
   "id": "9234573f",
   "metadata": {},
   "source": [
    "# Importing Dataset"
   ]
  },
  {
   "cell_type": "code",
   "execution_count": 1,
   "id": "d97c1cb5",
   "metadata": {},
   "outputs": [],
   "source": [
    "import pandas as pd"
   ]
  },
  {
   "cell_type": "code",
   "execution_count": 2,
   "id": "9bc288df",
   "metadata": {},
   "outputs": [],
   "source": [
    "df1 = pd.read_csv('df.csv')"
   ]
  },
  {
   "cell_type": "markdown",
   "id": "6f03bc89",
   "metadata": {},
   "source": [
    "# Import Librariies:"
   ]
  },
  {
   "cell_type": "code",
   "execution_count": 3,
   "id": "7c2e7aa5",
   "metadata": {},
   "outputs": [],
   "source": [
    "import pandas as pd\n",
    "import matplotlib.pyplot as plt\n",
    "import seaborn as sns\n",
    "from sklearn.model_selection import train_test_split\n",
    "from sklearn.linear_model import LogisticRegression\n",
    "#from sklearn.metrics import mean_absolute_error\n",
    "import pickle"
   ]
  },
  {
   "cell_type": "markdown",
   "id": "8b895eaa",
   "metadata": {},
   "source": [
    "# Read the Data:"
   ]
  },
  {
   "cell_type": "code",
   "execution_count": 5,
   "id": "4fb85392",
   "metadata": {},
   "outputs": [],
   "source": [
    "df1 = pd.read_csv('df.csv')"
   ]
  },
  {
   "cell_type": "markdown",
   "id": "c666bba8",
   "metadata": {},
   "source": [
    "# Data Understanding:"
   ]
  },
  {
   "cell_type": "code",
   "execution_count": 6,
   "id": "495e0a24",
   "metadata": {},
   "outputs": [
    {
     "data": {
      "text/html": [
       "<div>\n",
       "<style scoped>\n",
       "    .dataframe tbody tr th:only-of-type {\n",
       "        vertical-align: middle;\n",
       "    }\n",
       "\n",
       "    .dataframe tbody tr th {\n",
       "        vertical-align: top;\n",
       "    }\n",
       "\n",
       "    .dataframe thead th {\n",
       "        text-align: right;\n",
       "    }\n",
       "</style>\n",
       "<table border=\"1\" class=\"dataframe\">\n",
       "  <thead>\n",
       "    <tr style=\"text-align: right;\">\n",
       "      <th></th>\n",
       "      <th>Job Title</th>\n",
       "      <th>Salary Estimate</th>\n",
       "      <th>Rating</th>\n",
       "      <th>Company Name</th>\n",
       "      <th>Location</th>\n",
       "      <th>Size</th>\n",
       "      <th>Founded</th>\n",
       "      <th>Type of ownership</th>\n",
       "      <th>Industry</th>\n",
       "      <th>Sector</th>\n",
       "      <th>Revenue</th>\n",
       "    </tr>\n",
       "  </thead>\n",
       "  <tbody>\n",
       "    <tr>\n",
       "      <th>0</th>\n",
       "      <td>Senior Data Scientist</td>\n",
       "      <td>$111K-$181K (Glassdoor est.)</td>\n",
       "      <td>3.5</td>\n",
       "      <td>Hopper\\n3.5</td>\n",
       "      <td>New York, NY</td>\n",
       "      <td>501 to 1000 employees</td>\n",
       "      <td>2007</td>\n",
       "      <td>Company - Private</td>\n",
       "      <td>Travel Agencies</td>\n",
       "      <td>Travel &amp; Tourism</td>\n",
       "      <td>Unknown / Non-Applicable</td>\n",
       "    </tr>\n",
       "    <tr>\n",
       "      <th>1</th>\n",
       "      <td>Data Scientist, Product Analytics</td>\n",
       "      <td>$111K-$181K (Glassdoor est.)</td>\n",
       "      <td>4.5</td>\n",
       "      <td>Noom US\\n4.5</td>\n",
       "      <td>New York, NY</td>\n",
       "      <td>1001 to 5000 employees</td>\n",
       "      <td>2008</td>\n",
       "      <td>Company - Private</td>\n",
       "      <td>Health, Beauty, &amp; Fitness</td>\n",
       "      <td>Consumer Services</td>\n",
       "      <td>Unknown / Non-Applicable</td>\n",
       "    </tr>\n",
       "    <tr>\n",
       "      <th>2</th>\n",
       "      <td>Data Science Manager</td>\n",
       "      <td>$111K-$181K (Glassdoor est.)</td>\n",
       "      <td>-1.0</td>\n",
       "      <td>Decode_M</td>\n",
       "      <td>New York, NY</td>\n",
       "      <td>1 to 50 employees</td>\n",
       "      <td>-1</td>\n",
       "      <td>Unknown</td>\n",
       "      <td>-1</td>\n",
       "      <td>-1</td>\n",
       "      <td>Unknown / Non-Applicable</td>\n",
       "    </tr>\n",
       "    <tr>\n",
       "      <th>3</th>\n",
       "      <td>Data Analyst</td>\n",
       "      <td>$111K-$181K (Glassdoor est.)</td>\n",
       "      <td>3.4</td>\n",
       "      <td>Sapphire Digital\\n3.4</td>\n",
       "      <td>Lyndhurst, NJ</td>\n",
       "      <td>201 to 500 employees</td>\n",
       "      <td>2019</td>\n",
       "      <td>Company - Private</td>\n",
       "      <td>Internet</td>\n",
       "      <td>Information Technology</td>\n",
       "      <td>Unknown / Non-Applicable</td>\n",
       "    </tr>\n",
       "    <tr>\n",
       "      <th>4</th>\n",
       "      <td>Director, Data Science</td>\n",
       "      <td>$111K-$181K (Glassdoor est.)</td>\n",
       "      <td>3.4</td>\n",
       "      <td>United Entertainment Group\\n3.4</td>\n",
       "      <td>New York, NY</td>\n",
       "      <td>51 to 200 employees</td>\n",
       "      <td>2007</td>\n",
       "      <td>Company - Private</td>\n",
       "      <td>Advertising &amp; Marketing</td>\n",
       "      <td>Business Services</td>\n",
       "      <td>Unknown / Non-Applicable</td>\n",
       "    </tr>\n",
       "  </tbody>\n",
       "</table>\n",
       "</div>"
      ],
      "text/plain": [
       "                           Job Title               Salary Estimate  Rating  \\\n",
       "0              Senior Data Scientist  $111K-$181K (Glassdoor est.)     3.5   \n",
       "1  Data Scientist, Product Analytics  $111K-$181K (Glassdoor est.)     4.5   \n",
       "2               Data Science Manager  $111K-$181K (Glassdoor est.)    -1.0   \n",
       "3                       Data Analyst  $111K-$181K (Glassdoor est.)     3.4   \n",
       "4             Director, Data Science  $111K-$181K (Glassdoor est.)     3.4   \n",
       "\n",
       "                      Company Name       Location                    Size  \\\n",
       "0                      Hopper\\n3.5   New York, NY   501 to 1000 employees   \n",
       "1                     Noom US\\n4.5   New York, NY  1001 to 5000 employees   \n",
       "2                         Decode_M   New York, NY       1 to 50 employees   \n",
       "3            Sapphire Digital\\n3.4  Lyndhurst, NJ    201 to 500 employees   \n",
       "4  United Entertainment Group\\n3.4   New York, NY     51 to 200 employees   \n",
       "\n",
       "  Founded  Type of ownership                   Industry  \\\n",
       "0    2007  Company - Private            Travel Agencies   \n",
       "1    2008  Company - Private  Health, Beauty, & Fitness   \n",
       "2      -1            Unknown                         -1   \n",
       "3    2019  Company - Private                   Internet   \n",
       "4    2007  Company - Private    Advertising & Marketing   \n",
       "\n",
       "                   Sector                   Revenue  \n",
       "0        Travel & Tourism  Unknown / Non-Applicable  \n",
       "1       Consumer Services  Unknown / Non-Applicable  \n",
       "2                      -1  Unknown / Non-Applicable  \n",
       "3  Information Technology  Unknown / Non-Applicable  \n",
       "4       Business Services  Unknown / Non-Applicable  "
      ]
     },
     "execution_count": 6,
     "metadata": {},
     "output_type": "execute_result"
    }
   ],
   "source": [
    "df1.head()"
   ]
  },
  {
   "cell_type": "markdown",
   "id": "7f9bfae4",
   "metadata": {},
   "source": [
    "A few quick things come to mind looking at the above data:\n",
    "\n",
    "1. Job titles can be categorized based on the words they contain such as \"director\", \"data analyst\", ...\n",
    "2. Minimum and maximum salaries can be extracted from the salary estimate column and then averaged to create a new average salary column which will be our response variable\n",
    "3. Company names should not matter much\n",
    "4. The state where each position is located can be extracted from the location column\n",
    "5. Because there are too many unknowns in the Revenue column, we will not use that column"
   ]
  },
  {
   "cell_type": "markdown",
   "id": "2d36beef",
   "metadata": {},
   "source": [
    "# Assess Data:"
   ]
  },
  {
   "cell_type": "markdown",
   "id": "2279f93b",
   "metadata": {},
   "source": [
    "In this section, we will check the raw data and get an understanding of what kind of data we are dealing with.\n"
   ]
  },
  {
   "cell_type": "code",
   "execution_count": 7,
   "id": "02f012b4",
   "metadata": {},
   "outputs": [
    {
     "name": "stdout",
     "output_type": "stream",
     "text": [
      "<class 'pandas.core.frame.DataFrame'>\n",
      "RangeIndex: 5892 entries, 0 to 5891\n",
      "Data columns (total 11 columns):\n",
      " #   Column             Non-Null Count  Dtype  \n",
      "---  ------             --------------  -----  \n",
      " 0   Job Title          5892 non-null   object \n",
      " 1   Salary Estimate    5892 non-null   object \n",
      " 2   Rating             5892 non-null   float64\n",
      " 3   Company Name       5892 non-null   object \n",
      " 4   Location           5892 non-null   object \n",
      " 5   Size               5892 non-null   object \n",
      " 6   Founded            5892 non-null   object \n",
      " 7   Type of ownership  5892 non-null   object \n",
      " 8   Industry           5892 non-null   object \n",
      " 9   Sector             5892 non-null   object \n",
      " 10  Revenue            5892 non-null   object \n",
      "dtypes: float64(1), object(10)\n",
      "memory usage: 506.5+ KB\n"
     ]
    }
   ],
   "source": [
    "df1.info()"
   ]
  },
  {
   "cell_type": "markdown",
   "id": "deb09993",
   "metadata": {},
   "source": [
    "# Cleaning Data:"
   ]
  },
  {
   "cell_type": "markdown",
   "id": "55dbdb3b",
   "metadata": {},
   "source": [
    "*  Created minimum and maximum salary columns for the positions and parsed the\n",
    "corresponding values out of the raw data\n",
    "*   Created average salary column\n",
    "* Extracted the state where each position is located. Created a state column\n",
    "* Title column was created to show the different categories for the posted roles such as data engineer, deep learning, analyst, ..."
   ]
  },
  {
   "cell_type": "markdown",
   "id": "af41c439",
   "metadata": {},
   "source": [
    "# Cleaning the 'Salary Estimate' :"
   ]
  },
  {
   "cell_type": "markdown",
   "id": "0c54d8b0",
   "metadata": {},
   "source": [
    "   1. we will create two functions- one for removing the $ sign and another for removing 'K'"
   ]
  },
  {
   "cell_type": "markdown",
   "id": "63db5cfd",
   "metadata": {},
   "source": [
    "  We can do this by creating function and applying that function:\n",
    "\n",
    "       1) def  dollors_remover(a):\n",
    "            a = a.replace('$',' ')\n",
    "            return a\n",
    "\n",
    "       2) df1['Salary Estimate'] = df1['Salary Estimate'].apply(dollors_remover)"
   ]
  },
  {
   "cell_type": "markdown",
   "id": "791ae574",
   "metadata": {},
   "source": [
    "or we can use lambda:"
   ]
  },
  {
   "cell_type": "code",
   "execution_count": 8,
   "id": "fc950876",
   "metadata": {},
   "outputs": [],
   "source": [
    "# Remove $\n",
    "df1['Salary Estimate'] = df1['Salary Estimate'].apply(lambda a: a.replace('$',' '))"
   ]
  },
  {
   "cell_type": "code",
   "execution_count": 9,
   "id": "79848fe7",
   "metadata": {},
   "outputs": [],
   "source": [
    "# Remove K\n",
    "df1['Salary Estimate'] = df1['Salary Estimate'].apply(lambda a: a.replace('K',' '))"
   ]
  },
  {
   "cell_type": "code",
   "execution_count": 10,
   "id": "0ba07fb4",
   "metadata": {},
   "outputs": [
    {
     "data": {
      "text/html": [
       "<div>\n",
       "<style scoped>\n",
       "    .dataframe tbody tr th:only-of-type {\n",
       "        vertical-align: middle;\n",
       "    }\n",
       "\n",
       "    .dataframe tbody tr th {\n",
       "        vertical-align: top;\n",
       "    }\n",
       "\n",
       "    .dataframe thead th {\n",
       "        text-align: right;\n",
       "    }\n",
       "</style>\n",
       "<table border=\"1\" class=\"dataframe\">\n",
       "  <thead>\n",
       "    <tr style=\"text-align: right;\">\n",
       "      <th></th>\n",
       "      <th>Job Title</th>\n",
       "      <th>Salary Estimate</th>\n",
       "      <th>Rating</th>\n",
       "      <th>Company Name</th>\n",
       "      <th>Location</th>\n",
       "      <th>Size</th>\n",
       "      <th>Founded</th>\n",
       "      <th>Type of ownership</th>\n",
       "      <th>Industry</th>\n",
       "      <th>Sector</th>\n",
       "      <th>Revenue</th>\n",
       "    </tr>\n",
       "  </thead>\n",
       "  <tbody>\n",
       "    <tr>\n",
       "      <th>0</th>\n",
       "      <td>Senior Data Scientist</td>\n",
       "      <td>111 - 181  (Glassdoor est.)</td>\n",
       "      <td>3.5</td>\n",
       "      <td>Hopper\\n3.5</td>\n",
       "      <td>New York, NY</td>\n",
       "      <td>501 to 1000 employees</td>\n",
       "      <td>2007</td>\n",
       "      <td>Company - Private</td>\n",
       "      <td>Travel Agencies</td>\n",
       "      <td>Travel &amp; Tourism</td>\n",
       "      <td>Unknown / Non-Applicable</td>\n",
       "    </tr>\n",
       "    <tr>\n",
       "      <th>1</th>\n",
       "      <td>Data Scientist, Product Analytics</td>\n",
       "      <td>111 - 181  (Glassdoor est.)</td>\n",
       "      <td>4.5</td>\n",
       "      <td>Noom US\\n4.5</td>\n",
       "      <td>New York, NY</td>\n",
       "      <td>1001 to 5000 employees</td>\n",
       "      <td>2008</td>\n",
       "      <td>Company - Private</td>\n",
       "      <td>Health, Beauty, &amp; Fitness</td>\n",
       "      <td>Consumer Services</td>\n",
       "      <td>Unknown / Non-Applicable</td>\n",
       "    </tr>\n",
       "    <tr>\n",
       "      <th>2</th>\n",
       "      <td>Data Science Manager</td>\n",
       "      <td>111 - 181  (Glassdoor est.)</td>\n",
       "      <td>-1.0</td>\n",
       "      <td>Decode_M</td>\n",
       "      <td>New York, NY</td>\n",
       "      <td>1 to 50 employees</td>\n",
       "      <td>-1</td>\n",
       "      <td>Unknown</td>\n",
       "      <td>-1</td>\n",
       "      <td>-1</td>\n",
       "      <td>Unknown / Non-Applicable</td>\n",
       "    </tr>\n",
       "    <tr>\n",
       "      <th>3</th>\n",
       "      <td>Data Analyst</td>\n",
       "      <td>111 - 181  (Glassdoor est.)</td>\n",
       "      <td>3.4</td>\n",
       "      <td>Sapphire Digital\\n3.4</td>\n",
       "      <td>Lyndhurst, NJ</td>\n",
       "      <td>201 to 500 employees</td>\n",
       "      <td>2019</td>\n",
       "      <td>Company - Private</td>\n",
       "      <td>Internet</td>\n",
       "      <td>Information Technology</td>\n",
       "      <td>Unknown / Non-Applicable</td>\n",
       "    </tr>\n",
       "    <tr>\n",
       "      <th>4</th>\n",
       "      <td>Director, Data Science</td>\n",
       "      <td>111 - 181  (Glassdoor est.)</td>\n",
       "      <td>3.4</td>\n",
       "      <td>United Entertainment Group\\n3.4</td>\n",
       "      <td>New York, NY</td>\n",
       "      <td>51 to 200 employees</td>\n",
       "      <td>2007</td>\n",
       "      <td>Company - Private</td>\n",
       "      <td>Advertising &amp; Marketing</td>\n",
       "      <td>Business Services</td>\n",
       "      <td>Unknown / Non-Applicable</td>\n",
       "    </tr>\n",
       "  </tbody>\n",
       "</table>\n",
       "</div>"
      ],
      "text/plain": [
       "                           Job Title               Salary Estimate  Rating  \\\n",
       "0              Senior Data Scientist   111 - 181  (Glassdoor est.)     3.5   \n",
       "1  Data Scientist, Product Analytics   111 - 181  (Glassdoor est.)     4.5   \n",
       "2               Data Science Manager   111 - 181  (Glassdoor est.)    -1.0   \n",
       "3                       Data Analyst   111 - 181  (Glassdoor est.)     3.4   \n",
       "4             Director, Data Science   111 - 181  (Glassdoor est.)     3.4   \n",
       "\n",
       "                      Company Name       Location                    Size  \\\n",
       "0                      Hopper\\n3.5   New York, NY   501 to 1000 employees   \n",
       "1                     Noom US\\n4.5   New York, NY  1001 to 5000 employees   \n",
       "2                         Decode_M   New York, NY       1 to 50 employees   \n",
       "3            Sapphire Digital\\n3.4  Lyndhurst, NJ    201 to 500 employees   \n",
       "4  United Entertainment Group\\n3.4   New York, NY     51 to 200 employees   \n",
       "\n",
       "  Founded  Type of ownership                   Industry  \\\n",
       "0    2007  Company - Private            Travel Agencies   \n",
       "1    2008  Company - Private  Health, Beauty, & Fitness   \n",
       "2      -1            Unknown                         -1   \n",
       "3    2019  Company - Private                   Internet   \n",
       "4    2007  Company - Private    Advertising & Marketing   \n",
       "\n",
       "                   Sector                   Revenue  \n",
       "0        Travel & Tourism  Unknown / Non-Applicable  \n",
       "1       Consumer Services  Unknown / Non-Applicable  \n",
       "2                      -1  Unknown / Non-Applicable  \n",
       "3  Information Technology  Unknown / Non-Applicable  \n",
       "4       Business Services  Unknown / Non-Applicable  "
      ]
     },
     "execution_count": 10,
     "metadata": {},
     "output_type": "execute_result"
    }
   ],
   "source": [
    "df1.head()"
   ]
  },
  {
   "cell_type": "code",
   "execution_count": 11,
   "id": "a9ecf536",
   "metadata": {},
   "outputs": [],
   "source": [
    "# Remove 'Per Hour' from column\n",
    "df1 = df1[~df1['Salary Estimate'].str.contains('Per Hour')]"
   ]
  },
  {
   "cell_type": "code",
   "execution_count": 12,
   "id": "bc029910",
   "metadata": {},
   "outputs": [],
   "source": [
    "# Remove instances without salary estimates(remove -1)\n",
    "df1 = df1[df1['Salary Estimate']!= '-1']"
   ]
  },
  {
   "cell_type": "code",
   "execution_count": 13,
   "id": "dbdf1965",
   "metadata": {},
   "outputs": [
    {
     "data": {
      "text/html": [
       "<div>\n",
       "<style scoped>\n",
       "    .dataframe tbody tr th:only-of-type {\n",
       "        vertical-align: middle;\n",
       "    }\n",
       "\n",
       "    .dataframe tbody tr th {\n",
       "        vertical-align: top;\n",
       "    }\n",
       "\n",
       "    .dataframe thead th {\n",
       "        text-align: right;\n",
       "    }\n",
       "</style>\n",
       "<table border=\"1\" class=\"dataframe\">\n",
       "  <thead>\n",
       "    <tr style=\"text-align: right;\">\n",
       "      <th></th>\n",
       "      <th>Job Title</th>\n",
       "      <th>Salary Estimate</th>\n",
       "      <th>Rating</th>\n",
       "      <th>Company Name</th>\n",
       "      <th>Location</th>\n",
       "      <th>Size</th>\n",
       "      <th>Founded</th>\n",
       "      <th>Type of ownership</th>\n",
       "      <th>Industry</th>\n",
       "      <th>Sector</th>\n",
       "      <th>Revenue</th>\n",
       "    </tr>\n",
       "  </thead>\n",
       "  <tbody>\n",
       "    <tr>\n",
       "      <th>0</th>\n",
       "      <td>Senior Data Scientist</td>\n",
       "      <td>111 - 181  (Glassdoor est.)</td>\n",
       "      <td>3.5</td>\n",
       "      <td>Hopper\\n3.5</td>\n",
       "      <td>New York, NY</td>\n",
       "      <td>501 to 1000 employees</td>\n",
       "      <td>2007</td>\n",
       "      <td>Company - Private</td>\n",
       "      <td>Travel Agencies</td>\n",
       "      <td>Travel &amp; Tourism</td>\n",
       "      <td>Unknown / Non-Applicable</td>\n",
       "    </tr>\n",
       "    <tr>\n",
       "      <th>1</th>\n",
       "      <td>Data Scientist, Product Analytics</td>\n",
       "      <td>111 - 181  (Glassdoor est.)</td>\n",
       "      <td>4.5</td>\n",
       "      <td>Noom US\\n4.5</td>\n",
       "      <td>New York, NY</td>\n",
       "      <td>1001 to 5000 employees</td>\n",
       "      <td>2008</td>\n",
       "      <td>Company - Private</td>\n",
       "      <td>Health, Beauty, &amp; Fitness</td>\n",
       "      <td>Consumer Services</td>\n",
       "      <td>Unknown / Non-Applicable</td>\n",
       "    </tr>\n",
       "    <tr>\n",
       "      <th>2</th>\n",
       "      <td>Data Science Manager</td>\n",
       "      <td>111 - 181  (Glassdoor est.)</td>\n",
       "      <td>-1.0</td>\n",
       "      <td>Decode_M</td>\n",
       "      <td>New York, NY</td>\n",
       "      <td>1 to 50 employees</td>\n",
       "      <td>-1</td>\n",
       "      <td>Unknown</td>\n",
       "      <td>-1</td>\n",
       "      <td>-1</td>\n",
       "      <td>Unknown / Non-Applicable</td>\n",
       "    </tr>\n",
       "    <tr>\n",
       "      <th>3</th>\n",
       "      <td>Data Analyst</td>\n",
       "      <td>111 - 181  (Glassdoor est.)</td>\n",
       "      <td>3.4</td>\n",
       "      <td>Sapphire Digital\\n3.4</td>\n",
       "      <td>Lyndhurst, NJ</td>\n",
       "      <td>201 to 500 employees</td>\n",
       "      <td>2019</td>\n",
       "      <td>Company - Private</td>\n",
       "      <td>Internet</td>\n",
       "      <td>Information Technology</td>\n",
       "      <td>Unknown / Non-Applicable</td>\n",
       "    </tr>\n",
       "    <tr>\n",
       "      <th>4</th>\n",
       "      <td>Director, Data Science</td>\n",
       "      <td>111 - 181  (Glassdoor est.)</td>\n",
       "      <td>3.4</td>\n",
       "      <td>United Entertainment Group\\n3.4</td>\n",
       "      <td>New York, NY</td>\n",
       "      <td>51 to 200 employees</td>\n",
       "      <td>2007</td>\n",
       "      <td>Company - Private</td>\n",
       "      <td>Advertising &amp; Marketing</td>\n",
       "      <td>Business Services</td>\n",
       "      <td>Unknown / Non-Applicable</td>\n",
       "    </tr>\n",
       "  </tbody>\n",
       "</table>\n",
       "</div>"
      ],
      "text/plain": [
       "                           Job Title               Salary Estimate  Rating  \\\n",
       "0              Senior Data Scientist   111 - 181  (Glassdoor est.)     3.5   \n",
       "1  Data Scientist, Product Analytics   111 - 181  (Glassdoor est.)     4.5   \n",
       "2               Data Science Manager   111 - 181  (Glassdoor est.)    -1.0   \n",
       "3                       Data Analyst   111 - 181  (Glassdoor est.)     3.4   \n",
       "4             Director, Data Science   111 - 181  (Glassdoor est.)     3.4   \n",
       "\n",
       "                      Company Name       Location                    Size  \\\n",
       "0                      Hopper\\n3.5   New York, NY   501 to 1000 employees   \n",
       "1                     Noom US\\n4.5   New York, NY  1001 to 5000 employees   \n",
       "2                         Decode_M   New York, NY       1 to 50 employees   \n",
       "3            Sapphire Digital\\n3.4  Lyndhurst, NJ    201 to 500 employees   \n",
       "4  United Entertainment Group\\n3.4   New York, NY     51 to 200 employees   \n",
       "\n",
       "  Founded  Type of ownership                   Industry  \\\n",
       "0    2007  Company - Private            Travel Agencies   \n",
       "1    2008  Company - Private  Health, Beauty, & Fitness   \n",
       "2      -1            Unknown                         -1   \n",
       "3    2019  Company - Private                   Internet   \n",
       "4    2007  Company - Private    Advertising & Marketing   \n",
       "\n",
       "                   Sector                   Revenue  \n",
       "0        Travel & Tourism  Unknown / Non-Applicable  \n",
       "1       Consumer Services  Unknown / Non-Applicable  \n",
       "2                      -1  Unknown / Non-Applicable  \n",
       "3  Information Technology  Unknown / Non-Applicable  \n",
       "4       Business Services  Unknown / Non-Applicable  "
      ]
     },
     "execution_count": 13,
     "metadata": {},
     "output_type": "execute_result"
    }
   ],
   "source": [
    "df1.head()"
   ]
  },
  {
   "cell_type": "markdown",
   "id": "7d54af67",
   "metadata": {},
   "source": [
    "now we want to find the average salary and apply it to the whole column\n",
    "so we use split function to create a list out of the string and then get the min and max and cast it to int and get the average salary"
   ]
  },
  {
   "cell_type": "markdown",
   "id": "ba17f39c",
   "metadata": {},
   "source": [
    "For spliting, we can either use lambda or create a simple splitter function and apply that.\n",
    "the function would be:\n",
    "\n",
    "    1)def splitter(a):\n",
    "        a=a.split()\n",
    "        return a\n",
    "    2)df1['Salary Estimate'].apply(splitter)  "
   ]
  },
  {
   "cell_type": "code",
   "execution_count": 14,
   "id": "ef21636a",
   "metadata": {},
   "outputs": [],
   "source": [
    "# split it\n",
    "df1['Salary Estimate'] = df1['Salary Estimate'].apply(lambda a: a.split())"
   ]
  },
  {
   "cell_type": "code",
   "execution_count": 15,
   "id": "1af175e4",
   "metadata": {},
   "outputs": [],
   "source": [
    "# we will consider the first index as a min and the last one a max_salary\n",
    "df1['Min_salary'] = df1['Salary Estimate'].apply(lambda a: a[0])\n",
    "df1['Max_salary'] = df1['Salary Estimate'].apply(lambda a: a[2])"
   ]
  },
  {
   "cell_type": "markdown",
   "id": "41acd2e8",
   "metadata": {},
   "source": [
    "For finding an average, we have to change the format of min_salary and max salary column to int\n",
    "because the format is object"
   ]
  },
  {
   "cell_type": "code",
   "execution_count": 16,
   "id": "8761856f",
   "metadata": {},
   "outputs": [],
   "source": [
    "# cast Min_salary and Max_salary to int and get the average salary\n",
    "df1['Min_salary'] = df1['Min_salary'].apply(lambda a:int(a))\n",
    "df1['Max_salary'] = df1['Max_salary'].astype(int)\n",
    "\n",
    "df1['Average_salary'] = (df1.Min_salary + df1.Max_salary)/2"
   ]
  },
  {
   "cell_type": "markdown",
   "id": "8aa7eca9",
   "metadata": {},
   "source": [
    "# Cleaning 'Location' :"
   ]
  },
  {
   "cell_type": "code",
   "execution_count": 17,
   "id": "d8d1fe2f",
   "metadata": {},
   "outputs": [],
   "source": [
    "# state: what state is the job in\n",
    "df1['State'] = df1['Location'].apply(lambda a: a.split()[-1])\n",
    "# remove Kingdom from state column\n",
    "df1 = df1[df1.State != 'kingdom']"
   ]
  },
  {
   "cell_type": "markdown",
   "id": "6cf4e229",
   "metadata": {},
   "source": [
    "# Cleaning 'Job Title':"
   ]
  },
  {
   "cell_type": "code",
   "execution_count": 18,
   "id": "d11e3a42",
   "metadata": {},
   "outputs": [
    {
     "data": {
      "text/plain": [
       "Data Scientist                                                632\n",
       "Data Analyst                                                  337\n",
       "Data Engineer                                                 305\n",
       "Senior Data Scientist                                         127\n",
       "Machine Learning Engineer                                      64\n",
       "                                                             ... \n",
       "Tutor or Teacher - Data Science                                 1\n",
       "Sr. Applied Scientist                                           1\n",
       "Manufacturing Science and Technology Scientist                  1\n",
       "Data Scientist, Managing Consultant - Financial Management      1\n",
       "Lead Data Science Instructor, Data Scientist                    1\n",
       "Name: Job Title, Length: 2803, dtype: int64"
      ]
     },
     "execution_count": 18,
     "metadata": {},
     "output_type": "execute_result"
    }
   ],
   "source": [
    "df1['Job Title'].value_counts()"
   ]
  },
  {
   "cell_type": "code",
   "execution_count": 19,
   "id": "dd0bd6c5",
   "metadata": {},
   "outputs": [],
   "source": [
    "def title_organizer(a):\n",
    "        \"\"\"\n",
    "        This function organizes the job title\n",
    "        \"\"\"\n",
    "        a = a.lower()\n",
    "        if ('data scientist' in a) or ('data science' in a) :\n",
    "            return 'data scientist'\n",
    "        elif 'data engineer' in a:\n",
    "            return 'data engineer'\n",
    "        elif 'deep learning' in a:\n",
    "            return 'deep learning engineer'\n",
    "        elif 'machine learning' in a:\n",
    "            return 'machine learning engineer'\n",
    "        elif 'director' in a:\n",
    "            return 'director'\n",
    "        elif 'manager' in a:\n",
    "            return 'manager'\n",
    "        elif 'analyst' in a:\n",
    "            return 'analyst'\n",
    "        elif 'researcher' in a:\n",
    "            return 'researcher'\n",
    "        else:\n",
    "            return 'other'"
   ]
  },
  {
   "cell_type": "code",
   "execution_count": 20,
   "id": "48b0d421",
   "metadata": {},
   "outputs": [],
   "source": [
    "df1['Job Title'] = df1['Job Title'].apply(title_organizer)"
   ]
  },
  {
   "cell_type": "code",
   "execution_count": 21,
   "id": "aff14a69",
   "metadata": {},
   "outputs": [],
   "source": [
    "# filter dataframe based on Rating column:\n",
    "df1 = df1[df1['Rating']!= -1]"
   ]
  },
  {
   "cell_type": "markdown",
   "id": "57c24491",
   "metadata": {},
   "source": [
    "now we cleaned our dataframe. so we can either drop unneccessarly columns or keep the necessary ones:\n",
    "    "
   ]
  },
  {
   "cell_type": "code",
   "execution_count": 22,
   "id": "75565a9c",
   "metadata": {},
   "outputs": [],
   "source": [
    "# drop\n",
    "# df1.drop(columns='Salary Estimate', inplace=True) \n",
    "# df1 = df1.drop(columns = ['Company Name','Location','Size', 'Founded', 'Type of ownership', 'Industry', 'Sector', 'Revenue', 'Min_Salary' , 'Max_Salary'])"
   ]
  },
  {
   "cell_type": "code",
   "execution_count": 23,
   "id": "564587e8",
   "metadata": {},
   "outputs": [],
   "source": [
    "cleaned_df = df1[['Job Title', 'Rating', 'Average_salary', 'State']]"
   ]
  },
  {
   "cell_type": "code",
   "execution_count": 24,
   "id": "20e06ecc",
   "metadata": {},
   "outputs": [
    {
     "name": "stdout",
     "output_type": "stream",
     "text": [
      "<class 'pandas.core.frame.DataFrame'>\n",
      "Int64Index: 4895 entries, 0 to 5887\n",
      "Data columns (total 4 columns):\n",
      " #   Column          Non-Null Count  Dtype  \n",
      "---  ------          --------------  -----  \n",
      " 0   Job Title       4895 non-null   object \n",
      " 1   Rating          4895 non-null   float64\n",
      " 2   Average_salary  4895 non-null   float64\n",
      " 3   State           4895 non-null   object \n",
      "dtypes: float64(2), object(2)\n",
      "memory usage: 191.2+ KB\n"
     ]
    }
   ],
   "source": [
    "cleaned_df.info()"
   ]
  },
  {
   "cell_type": "code",
   "execution_count": 25,
   "id": "65a60101",
   "metadata": {},
   "outputs": [
    {
     "data": {
      "text/html": [
       "<div>\n",
       "<style scoped>\n",
       "    .dataframe tbody tr th:only-of-type {\n",
       "        vertical-align: middle;\n",
       "    }\n",
       "\n",
       "    .dataframe tbody tr th {\n",
       "        vertical-align: top;\n",
       "    }\n",
       "\n",
       "    .dataframe thead th {\n",
       "        text-align: right;\n",
       "    }\n",
       "</style>\n",
       "<table border=\"1\" class=\"dataframe\">\n",
       "  <thead>\n",
       "    <tr style=\"text-align: right;\">\n",
       "      <th></th>\n",
       "      <th>Job Title</th>\n",
       "      <th>Rating</th>\n",
       "      <th>Average_salary</th>\n",
       "      <th>State</th>\n",
       "    </tr>\n",
       "  </thead>\n",
       "  <tbody>\n",
       "    <tr>\n",
       "      <th>0</th>\n",
       "      <td>data scientist</td>\n",
       "      <td>3.5</td>\n",
       "      <td>146.0</td>\n",
       "      <td>NY</td>\n",
       "    </tr>\n",
       "    <tr>\n",
       "      <th>1</th>\n",
       "      <td>data scientist</td>\n",
       "      <td>4.5</td>\n",
       "      <td>146.0</td>\n",
       "      <td>NY</td>\n",
       "    </tr>\n",
       "    <tr>\n",
       "      <th>3</th>\n",
       "      <td>analyst</td>\n",
       "      <td>3.4</td>\n",
       "      <td>146.0</td>\n",
       "      <td>NJ</td>\n",
       "    </tr>\n",
       "    <tr>\n",
       "      <th>4</th>\n",
       "      <td>data scientist</td>\n",
       "      <td>3.4</td>\n",
       "      <td>146.0</td>\n",
       "      <td>NY</td>\n",
       "    </tr>\n",
       "    <tr>\n",
       "      <th>5</th>\n",
       "      <td>data scientist</td>\n",
       "      <td>2.9</td>\n",
       "      <td>146.0</td>\n",
       "      <td>NY</td>\n",
       "    </tr>\n",
       "    <tr>\n",
       "      <th>...</th>\n",
       "      <td>...</td>\n",
       "      <td>...</td>\n",
       "      <td>...</td>\n",
       "      <td>...</td>\n",
       "    </tr>\n",
       "    <tr>\n",
       "      <th>5881</th>\n",
       "      <td>other</td>\n",
       "      <td>3.2</td>\n",
       "      <td>51.0</td>\n",
       "      <td>OH</td>\n",
       "    </tr>\n",
       "    <tr>\n",
       "      <th>5882</th>\n",
       "      <td>other</td>\n",
       "      <td>4.2</td>\n",
       "      <td>68.0</td>\n",
       "      <td>OH</td>\n",
       "    </tr>\n",
       "    <tr>\n",
       "      <th>5883</th>\n",
       "      <td>other</td>\n",
       "      <td>4.0</td>\n",
       "      <td>89.5</td>\n",
       "      <td>OH</td>\n",
       "    </tr>\n",
       "    <tr>\n",
       "      <th>5886</th>\n",
       "      <td>analyst</td>\n",
       "      <td>4.0</td>\n",
       "      <td>89.0</td>\n",
       "      <td>OH</td>\n",
       "    </tr>\n",
       "    <tr>\n",
       "      <th>5887</th>\n",
       "      <td>analyst</td>\n",
       "      <td>3.6</td>\n",
       "      <td>59.0</td>\n",
       "      <td>OH</td>\n",
       "    </tr>\n",
       "  </tbody>\n",
       "</table>\n",
       "<p>4895 rows × 4 columns</p>\n",
       "</div>"
      ],
      "text/plain": [
       "           Job Title  Rating  Average_salary State\n",
       "0     data scientist     3.5           146.0    NY\n",
       "1     data scientist     4.5           146.0    NY\n",
       "3            analyst     3.4           146.0    NJ\n",
       "4     data scientist     3.4           146.0    NY\n",
       "5     data scientist     2.9           146.0    NY\n",
       "...              ...     ...             ...   ...\n",
       "5881           other     3.2            51.0    OH\n",
       "5882           other     4.2            68.0    OH\n",
       "5883           other     4.0            89.5    OH\n",
       "5886         analyst     4.0            89.0    OH\n",
       "5887         analyst     3.6            59.0    OH\n",
       "\n",
       "[4895 rows x 4 columns]"
      ]
     },
     "execution_count": 25,
     "metadata": {},
     "output_type": "execute_result"
    }
   ],
   "source": [
    "cleaned_df"
   ]
  },
  {
   "cell_type": "markdown",
   "id": "07239c4f",
   "metadata": {},
   "source": [
    "# Feature Engineering:"
   ]
  },
  {
   "cell_type": "markdown",
   "id": "d6509b7e",
   "metadata": {},
   "source": [
    "For Machine Learning Algorithms to be able to use our data, we must ensure that all values are numerical\n",
    "and there are no empty columns, as these algorithms are mathematical and can only process numbers, not objects"
   ]
  },
  {
   "cell_type": "markdown",
   "id": "ad003652",
   "metadata": {},
   "source": [
    "\n",
    "for the objects in the dataframe(ex, Job Title) we're going to assign a code to that with get_dummies\n",
    "with following code the specific code will be assigned to JOB TITLE columns.\n"
   ]
  },
  {
   "cell_type": "code",
   "execution_count": 26,
   "id": "7bdfe50a",
   "metadata": {},
   "outputs": [],
   "source": [
    "preprocessed_df = pd.get_dummies(cleaned_df , columns=['Job Title', 'State'])"
   ]
  },
  {
   "cell_type": "code",
   "execution_count": 28,
   "id": "93564cdf",
   "metadata": {
    "scrolled": false
   },
   "outputs": [
    {
     "data": {
      "text/html": [
       "<div>\n",
       "<style scoped>\n",
       "    .dataframe tbody tr th:only-of-type {\n",
       "        vertical-align: middle;\n",
       "    }\n",
       "\n",
       "    .dataframe tbody tr th {\n",
       "        vertical-align: top;\n",
       "    }\n",
       "\n",
       "    .dataframe thead th {\n",
       "        text-align: right;\n",
       "    }\n",
       "</style>\n",
       "<table border=\"1\" class=\"dataframe\">\n",
       "  <thead>\n",
       "    <tr style=\"text-align: right;\">\n",
       "      <th></th>\n",
       "      <th>Rating</th>\n",
       "      <th>Average_salary</th>\n",
       "      <th>Job Title_analyst</th>\n",
       "      <th>Job Title_data engineer</th>\n",
       "      <th>Job Title_data scientist</th>\n",
       "      <th>Job Title_deep learning engineer</th>\n",
       "      <th>Job Title_director</th>\n",
       "      <th>Job Title_machine learning engineer</th>\n",
       "      <th>Job Title_manager</th>\n",
       "      <th>Job Title_other</th>\n",
       "      <th>...</th>\n",
       "      <th>State_NC</th>\n",
       "      <th>State_NH</th>\n",
       "      <th>State_NJ</th>\n",
       "      <th>State_NM</th>\n",
       "      <th>State_NY</th>\n",
       "      <th>State_OH</th>\n",
       "      <th>State_PA</th>\n",
       "      <th>State_TX</th>\n",
       "      <th>State_VA</th>\n",
       "      <th>State_WI</th>\n",
       "    </tr>\n",
       "  </thead>\n",
       "  <tbody>\n",
       "    <tr>\n",
       "      <th>0</th>\n",
       "      <td>3.5</td>\n",
       "      <td>146.0</td>\n",
       "      <td>0</td>\n",
       "      <td>0</td>\n",
       "      <td>1</td>\n",
       "      <td>0</td>\n",
       "      <td>0</td>\n",
       "      <td>0</td>\n",
       "      <td>0</td>\n",
       "      <td>0</td>\n",
       "      <td>...</td>\n",
       "      <td>0</td>\n",
       "      <td>0</td>\n",
       "      <td>0</td>\n",
       "      <td>0</td>\n",
       "      <td>1</td>\n",
       "      <td>0</td>\n",
       "      <td>0</td>\n",
       "      <td>0</td>\n",
       "      <td>0</td>\n",
       "      <td>0</td>\n",
       "    </tr>\n",
       "    <tr>\n",
       "      <th>1</th>\n",
       "      <td>4.5</td>\n",
       "      <td>146.0</td>\n",
       "      <td>0</td>\n",
       "      <td>0</td>\n",
       "      <td>1</td>\n",
       "      <td>0</td>\n",
       "      <td>0</td>\n",
       "      <td>0</td>\n",
       "      <td>0</td>\n",
       "      <td>0</td>\n",
       "      <td>...</td>\n",
       "      <td>0</td>\n",
       "      <td>0</td>\n",
       "      <td>0</td>\n",
       "      <td>0</td>\n",
       "      <td>1</td>\n",
       "      <td>0</td>\n",
       "      <td>0</td>\n",
       "      <td>0</td>\n",
       "      <td>0</td>\n",
       "      <td>0</td>\n",
       "    </tr>\n",
       "    <tr>\n",
       "      <th>3</th>\n",
       "      <td>3.4</td>\n",
       "      <td>146.0</td>\n",
       "      <td>1</td>\n",
       "      <td>0</td>\n",
       "      <td>0</td>\n",
       "      <td>0</td>\n",
       "      <td>0</td>\n",
       "      <td>0</td>\n",
       "      <td>0</td>\n",
       "      <td>0</td>\n",
       "      <td>...</td>\n",
       "      <td>0</td>\n",
       "      <td>0</td>\n",
       "      <td>1</td>\n",
       "      <td>0</td>\n",
       "      <td>0</td>\n",
       "      <td>0</td>\n",
       "      <td>0</td>\n",
       "      <td>0</td>\n",
       "      <td>0</td>\n",
       "      <td>0</td>\n",
       "    </tr>\n",
       "    <tr>\n",
       "      <th>4</th>\n",
       "      <td>3.4</td>\n",
       "      <td>146.0</td>\n",
       "      <td>0</td>\n",
       "      <td>0</td>\n",
       "      <td>1</td>\n",
       "      <td>0</td>\n",
       "      <td>0</td>\n",
       "      <td>0</td>\n",
       "      <td>0</td>\n",
       "      <td>0</td>\n",
       "      <td>...</td>\n",
       "      <td>0</td>\n",
       "      <td>0</td>\n",
       "      <td>0</td>\n",
       "      <td>0</td>\n",
       "      <td>1</td>\n",
       "      <td>0</td>\n",
       "      <td>0</td>\n",
       "      <td>0</td>\n",
       "      <td>0</td>\n",
       "      <td>0</td>\n",
       "    </tr>\n",
       "    <tr>\n",
       "      <th>5</th>\n",
       "      <td>2.9</td>\n",
       "      <td>146.0</td>\n",
       "      <td>0</td>\n",
       "      <td>0</td>\n",
       "      <td>1</td>\n",
       "      <td>0</td>\n",
       "      <td>0</td>\n",
       "      <td>0</td>\n",
       "      <td>0</td>\n",
       "      <td>0</td>\n",
       "      <td>...</td>\n",
       "      <td>0</td>\n",
       "      <td>0</td>\n",
       "      <td>0</td>\n",
       "      <td>0</td>\n",
       "      <td>1</td>\n",
       "      <td>0</td>\n",
       "      <td>0</td>\n",
       "      <td>0</td>\n",
       "      <td>0</td>\n",
       "      <td>0</td>\n",
       "    </tr>\n",
       "    <tr>\n",
       "      <th>...</th>\n",
       "      <td>...</td>\n",
       "      <td>...</td>\n",
       "      <td>...</td>\n",
       "      <td>...</td>\n",
       "      <td>...</td>\n",
       "      <td>...</td>\n",
       "      <td>...</td>\n",
       "      <td>...</td>\n",
       "      <td>...</td>\n",
       "      <td>...</td>\n",
       "      <td>...</td>\n",
       "      <td>...</td>\n",
       "      <td>...</td>\n",
       "      <td>...</td>\n",
       "      <td>...</td>\n",
       "      <td>...</td>\n",
       "      <td>...</td>\n",
       "      <td>...</td>\n",
       "      <td>...</td>\n",
       "      <td>...</td>\n",
       "      <td>...</td>\n",
       "    </tr>\n",
       "    <tr>\n",
       "      <th>5881</th>\n",
       "      <td>3.2</td>\n",
       "      <td>51.0</td>\n",
       "      <td>0</td>\n",
       "      <td>0</td>\n",
       "      <td>0</td>\n",
       "      <td>0</td>\n",
       "      <td>0</td>\n",
       "      <td>0</td>\n",
       "      <td>0</td>\n",
       "      <td>1</td>\n",
       "      <td>...</td>\n",
       "      <td>0</td>\n",
       "      <td>0</td>\n",
       "      <td>0</td>\n",
       "      <td>0</td>\n",
       "      <td>0</td>\n",
       "      <td>1</td>\n",
       "      <td>0</td>\n",
       "      <td>0</td>\n",
       "      <td>0</td>\n",
       "      <td>0</td>\n",
       "    </tr>\n",
       "    <tr>\n",
       "      <th>5882</th>\n",
       "      <td>4.2</td>\n",
       "      <td>68.0</td>\n",
       "      <td>0</td>\n",
       "      <td>0</td>\n",
       "      <td>0</td>\n",
       "      <td>0</td>\n",
       "      <td>0</td>\n",
       "      <td>0</td>\n",
       "      <td>0</td>\n",
       "      <td>1</td>\n",
       "      <td>...</td>\n",
       "      <td>0</td>\n",
       "      <td>0</td>\n",
       "      <td>0</td>\n",
       "      <td>0</td>\n",
       "      <td>0</td>\n",
       "      <td>1</td>\n",
       "      <td>0</td>\n",
       "      <td>0</td>\n",
       "      <td>0</td>\n",
       "      <td>0</td>\n",
       "    </tr>\n",
       "    <tr>\n",
       "      <th>5883</th>\n",
       "      <td>4.0</td>\n",
       "      <td>89.5</td>\n",
       "      <td>0</td>\n",
       "      <td>0</td>\n",
       "      <td>0</td>\n",
       "      <td>0</td>\n",
       "      <td>0</td>\n",
       "      <td>0</td>\n",
       "      <td>0</td>\n",
       "      <td>1</td>\n",
       "      <td>...</td>\n",
       "      <td>0</td>\n",
       "      <td>0</td>\n",
       "      <td>0</td>\n",
       "      <td>0</td>\n",
       "      <td>0</td>\n",
       "      <td>1</td>\n",
       "      <td>0</td>\n",
       "      <td>0</td>\n",
       "      <td>0</td>\n",
       "      <td>0</td>\n",
       "    </tr>\n",
       "    <tr>\n",
       "      <th>5886</th>\n",
       "      <td>4.0</td>\n",
       "      <td>89.0</td>\n",
       "      <td>1</td>\n",
       "      <td>0</td>\n",
       "      <td>0</td>\n",
       "      <td>0</td>\n",
       "      <td>0</td>\n",
       "      <td>0</td>\n",
       "      <td>0</td>\n",
       "      <td>0</td>\n",
       "      <td>...</td>\n",
       "      <td>0</td>\n",
       "      <td>0</td>\n",
       "      <td>0</td>\n",
       "      <td>0</td>\n",
       "      <td>0</td>\n",
       "      <td>1</td>\n",
       "      <td>0</td>\n",
       "      <td>0</td>\n",
       "      <td>0</td>\n",
       "      <td>0</td>\n",
       "    </tr>\n",
       "    <tr>\n",
       "      <th>5887</th>\n",
       "      <td>3.6</td>\n",
       "      <td>59.0</td>\n",
       "      <td>1</td>\n",
       "      <td>0</td>\n",
       "      <td>0</td>\n",
       "      <td>0</td>\n",
       "      <td>0</td>\n",
       "      <td>0</td>\n",
       "      <td>0</td>\n",
       "      <td>0</td>\n",
       "      <td>...</td>\n",
       "      <td>0</td>\n",
       "      <td>0</td>\n",
       "      <td>0</td>\n",
       "      <td>0</td>\n",
       "      <td>0</td>\n",
       "      <td>1</td>\n",
       "      <td>0</td>\n",
       "      <td>0</td>\n",
       "      <td>0</td>\n",
       "      <td>0</td>\n",
       "    </tr>\n",
       "  </tbody>\n",
       "</table>\n",
       "<p>4895 rows × 35 columns</p>\n",
       "</div>"
      ],
      "text/plain": [
       "      Rating  Average_salary  Job Title_analyst  Job Title_data engineer  \\\n",
       "0        3.5           146.0                  0                        0   \n",
       "1        4.5           146.0                  0                        0   \n",
       "3        3.4           146.0                  1                        0   \n",
       "4        3.4           146.0                  0                        0   \n",
       "5        2.9           146.0                  0                        0   \n",
       "...      ...             ...                ...                      ...   \n",
       "5881     3.2            51.0                  0                        0   \n",
       "5882     4.2            68.0                  0                        0   \n",
       "5883     4.0            89.5                  0                        0   \n",
       "5886     4.0            89.0                  1                        0   \n",
       "5887     3.6            59.0                  1                        0   \n",
       "\n",
       "      Job Title_data scientist  Job Title_deep learning engineer  \\\n",
       "0                            1                                 0   \n",
       "1                            1                                 0   \n",
       "3                            0                                 0   \n",
       "4                            1                                 0   \n",
       "5                            1                                 0   \n",
       "...                        ...                               ...   \n",
       "5881                         0                                 0   \n",
       "5882                         0                                 0   \n",
       "5883                         0                                 0   \n",
       "5886                         0                                 0   \n",
       "5887                         0                                 0   \n",
       "\n",
       "      Job Title_director  Job Title_machine learning engineer  \\\n",
       "0                      0                                    0   \n",
       "1                      0                                    0   \n",
       "3                      0                                    0   \n",
       "4                      0                                    0   \n",
       "5                      0                                    0   \n",
       "...                  ...                                  ...   \n",
       "5881                   0                                    0   \n",
       "5882                   0                                    0   \n",
       "5883                   0                                    0   \n",
       "5886                   0                                    0   \n",
       "5887                   0                                    0   \n",
       "\n",
       "      Job Title_manager  Job Title_other  ...  State_NC  State_NH  State_NJ  \\\n",
       "0                     0                0  ...         0         0         0   \n",
       "1                     0                0  ...         0         0         0   \n",
       "3                     0                0  ...         0         0         1   \n",
       "4                     0                0  ...         0         0         0   \n",
       "5                     0                0  ...         0         0         0   \n",
       "...                 ...              ...  ...       ...       ...       ...   \n",
       "5881                  0                1  ...         0         0         0   \n",
       "5882                  0                1  ...         0         0         0   \n",
       "5883                  0                1  ...         0         0         0   \n",
       "5886                  0                0  ...         0         0         0   \n",
       "5887                  0                0  ...         0         0         0   \n",
       "\n",
       "      State_NM  State_NY  State_OH  State_PA  State_TX  State_VA  State_WI  \n",
       "0            0         1         0         0         0         0         0  \n",
       "1            0         1         0         0         0         0         0  \n",
       "3            0         0         0         0         0         0         0  \n",
       "4            0         1         0         0         0         0         0  \n",
       "5            0         1         0         0         0         0         0  \n",
       "...        ...       ...       ...       ...       ...       ...       ...  \n",
       "5881         0         0         1         0         0         0         0  \n",
       "5882         0         0         1         0         0         0         0  \n",
       "5883         0         0         1         0         0         0         0  \n",
       "5886         0         0         1         0         0         0         0  \n",
       "5887         0         0         1         0         0         0         0  \n",
       "\n",
       "[4895 rows x 35 columns]"
      ]
     },
     "execution_count": 28,
     "metadata": {},
     "output_type": "execute_result"
    }
   ],
   "source": [
    "preprocessed_df"
   ]
  },
  {
   "cell_type": "markdown",
   "id": "12b39581",
   "metadata": {},
   "source": [
    "we want to classify the Average_salary column into two categories.\n",
    "first we have to find the middle number which is exist in this column:"
   ]
  },
  {
   "cell_type": "code",
   "execution_count": 63,
   "id": "8057ac1b",
   "metadata": {},
   "outputs": [
    {
     "data": {
      "text/plain": [
       "102.0"
      ]
     },
     "execution_count": 63,
     "metadata": {},
     "output_type": "execute_result"
    }
   ],
   "source": [
    "preprocessed_df['Average_salary'].median()"
   ]
  },
  {
   "cell_type": "code",
   "execution_count": 64,
   "id": "d5f8b95e",
   "metadata": {},
   "outputs": [],
   "source": [
    "def satisfies(a):\n",
    "    if a >= 102:\n",
    "        return (1)\n",
    "    else:\n",
    "        return(0)"
   ]
  },
  {
   "cell_type": "code",
   "execution_count": 65,
   "id": "8223c1fb",
   "metadata": {},
   "outputs": [],
   "source": [
    "preprocessed_df['Satisfaction']=preprocessed_df['Average_salary'].apply(satisfies)"
   ]
  },
  {
   "cell_type": "code",
   "execution_count": 66,
   "id": "da9509bd",
   "metadata": {
    "scrolled": true
   },
   "outputs": [
    {
     "data": {
      "text/html": [
       "<div>\n",
       "<style scoped>\n",
       "    .dataframe tbody tr th:only-of-type {\n",
       "        vertical-align: middle;\n",
       "    }\n",
       "\n",
       "    .dataframe tbody tr th {\n",
       "        vertical-align: top;\n",
       "    }\n",
       "\n",
       "    .dataframe thead th {\n",
       "        text-align: right;\n",
       "    }\n",
       "</style>\n",
       "<table border=\"1\" class=\"dataframe\">\n",
       "  <thead>\n",
       "    <tr style=\"text-align: right;\">\n",
       "      <th></th>\n",
       "      <th>Average_salary</th>\n",
       "      <th>Satisfaction</th>\n",
       "    </tr>\n",
       "  </thead>\n",
       "  <tbody>\n",
       "    <tr>\n",
       "      <th>0</th>\n",
       "      <td>146.0</td>\n",
       "      <td>1</td>\n",
       "    </tr>\n",
       "    <tr>\n",
       "      <th>1</th>\n",
       "      <td>146.0</td>\n",
       "      <td>1</td>\n",
       "    </tr>\n",
       "    <tr>\n",
       "      <th>3</th>\n",
       "      <td>146.0</td>\n",
       "      <td>1</td>\n",
       "    </tr>\n",
       "    <tr>\n",
       "      <th>4</th>\n",
       "      <td>146.0</td>\n",
       "      <td>1</td>\n",
       "    </tr>\n",
       "    <tr>\n",
       "      <th>5</th>\n",
       "      <td>146.0</td>\n",
       "      <td>1</td>\n",
       "    </tr>\n",
       "    <tr>\n",
       "      <th>...</th>\n",
       "      <td>...</td>\n",
       "      <td>...</td>\n",
       "    </tr>\n",
       "    <tr>\n",
       "      <th>5881</th>\n",
       "      <td>51.0</td>\n",
       "      <td>0</td>\n",
       "    </tr>\n",
       "    <tr>\n",
       "      <th>5882</th>\n",
       "      <td>68.0</td>\n",
       "      <td>0</td>\n",
       "    </tr>\n",
       "    <tr>\n",
       "      <th>5883</th>\n",
       "      <td>89.5</td>\n",
       "      <td>0</td>\n",
       "    </tr>\n",
       "    <tr>\n",
       "      <th>5886</th>\n",
       "      <td>89.0</td>\n",
       "      <td>0</td>\n",
       "    </tr>\n",
       "    <tr>\n",
       "      <th>5887</th>\n",
       "      <td>59.0</td>\n",
       "      <td>0</td>\n",
       "    </tr>\n",
       "  </tbody>\n",
       "</table>\n",
       "<p>4895 rows × 2 columns</p>\n",
       "</div>"
      ],
      "text/plain": [
       "      Average_salary  Satisfaction\n",
       "0              146.0             1\n",
       "1              146.0             1\n",
       "3              146.0             1\n",
       "4              146.0             1\n",
       "5              146.0             1\n",
       "...              ...           ...\n",
       "5881            51.0             0\n",
       "5882            68.0             0\n",
       "5883            89.5             0\n",
       "5886            89.0             0\n",
       "5887            59.0             0\n",
       "\n",
       "[4895 rows x 2 columns]"
      ]
     },
     "execution_count": 66,
     "metadata": {},
     "output_type": "execute_result"
    }
   ],
   "source": [
    "preprocessed_df[['Average_salary' ,'Satisfaction']]"
   ]
  },
  {
   "cell_type": "markdown",
   "id": "cf234d73",
   "metadata": {},
   "source": [
    "we should separate our dependant and indepandant variables:\n",
    " \n",
    " x= dependant variable\n",
    "\n",
    "we will drop the dependant variable which is our average salary  and put all of other variables in to 'x' and put averge salary which is our dependant variable into 'y'"
   ]
  },
  {
   "cell_type": "code",
   "execution_count": 34,
   "id": "82b07f13",
   "metadata": {},
   "outputs": [],
   "source": [
    "x = preprocessed_df.drop(columns = ['Average_salary', 'Satisfaction'])"
   ]
  },
  {
   "cell_type": "code",
   "execution_count": 35,
   "id": "c773a421",
   "metadata": {},
   "outputs": [],
   "source": [
    "y = preprocessed_df['Satisfaction']"
   ]
  },
  {
   "cell_type": "markdown",
   "id": "3d897975",
   "metadata": {},
   "source": [
    "# Modeling:"
   ]
  },
  {
   "cell_type": "markdown",
   "id": "2e3f94c5",
   "metadata": {},
   "source": [
    " Then we devide our dataset into 2 categories, Training set and testing set with scikitlearn library\n",
    "to get the same random result we set the random_state 101."
   ]
  },
  {
   "cell_type": "code",
   "execution_count": 75,
   "id": "694c8780",
   "metadata": {},
   "outputs": [],
   "source": [
    "x_train, x_test, y_train, y_test = train_test_split(x, y, test_size=0.3 , random_state = 101)"
   ]
  },
  {
   "cell_type": "code",
   "execution_count": 76,
   "id": "e162e46d",
   "metadata": {},
   "outputs": [],
   "source": [
    "from sklearn.linear_model import LogisticRegression"
   ]
  },
  {
   "cell_type": "code",
   "execution_count": 77,
   "id": "5ab084b3",
   "metadata": {},
   "outputs": [],
   "source": [
    "logreg = LogisticRegression()"
   ]
  },
  {
   "cell_type": "markdown",
   "id": "bd21c76c",
   "metadata": {},
   "source": [
    "To train the model we instantiated from a package, we use the \"fit\" method. This method takes the features and their corresponding labels (X_train and Y_train), and trains the model. Once we run the model, it will be trained and can be used for accurate predictions"
   ]
  },
  {
   "cell_type": "code",
   "execution_count": 78,
   "id": "a7c05af1",
   "metadata": {
    "scrolled": true
   },
   "outputs": [
    {
     "data": {
      "text/html": [
       "<style>#sk-container-id-6 {color: black;}#sk-container-id-6 pre{padding: 0;}#sk-container-id-6 div.sk-toggleable {background-color: white;}#sk-container-id-6 label.sk-toggleable__label {cursor: pointer;display: block;width: 100%;margin-bottom: 0;padding: 0.3em;box-sizing: border-box;text-align: center;}#sk-container-id-6 label.sk-toggleable__label-arrow:before {content: \"▸\";float: left;margin-right: 0.25em;color: #696969;}#sk-container-id-6 label.sk-toggleable__label-arrow:hover:before {color: black;}#sk-container-id-6 div.sk-estimator:hover label.sk-toggleable__label-arrow:before {color: black;}#sk-container-id-6 div.sk-toggleable__content {max-height: 0;max-width: 0;overflow: hidden;text-align: left;background-color: #f0f8ff;}#sk-container-id-6 div.sk-toggleable__content pre {margin: 0.2em;color: black;border-radius: 0.25em;background-color: #f0f8ff;}#sk-container-id-6 input.sk-toggleable__control:checked~div.sk-toggleable__content {max-height: 200px;max-width: 100%;overflow: auto;}#sk-container-id-6 input.sk-toggleable__control:checked~label.sk-toggleable__label-arrow:before {content: \"▾\";}#sk-container-id-6 div.sk-estimator input.sk-toggleable__control:checked~label.sk-toggleable__label {background-color: #d4ebff;}#sk-container-id-6 div.sk-label input.sk-toggleable__control:checked~label.sk-toggleable__label {background-color: #d4ebff;}#sk-container-id-6 input.sk-hidden--visually {border: 0;clip: rect(1px 1px 1px 1px);clip: rect(1px, 1px, 1px, 1px);height: 1px;margin: -1px;overflow: hidden;padding: 0;position: absolute;width: 1px;}#sk-container-id-6 div.sk-estimator {font-family: monospace;background-color: #f0f8ff;border: 1px dotted black;border-radius: 0.25em;box-sizing: border-box;margin-bottom: 0.5em;}#sk-container-id-6 div.sk-estimator:hover {background-color: #d4ebff;}#sk-container-id-6 div.sk-parallel-item::after {content: \"\";width: 100%;border-bottom: 1px solid gray;flex-grow: 1;}#sk-container-id-6 div.sk-label:hover label.sk-toggleable__label {background-color: #d4ebff;}#sk-container-id-6 div.sk-serial::before {content: \"\";position: absolute;border-left: 1px solid gray;box-sizing: border-box;top: 0;bottom: 0;left: 50%;z-index: 0;}#sk-container-id-6 div.sk-serial {display: flex;flex-direction: column;align-items: center;background-color: white;padding-right: 0.2em;padding-left: 0.2em;position: relative;}#sk-container-id-6 div.sk-item {position: relative;z-index: 1;}#sk-container-id-6 div.sk-parallel {display: flex;align-items: stretch;justify-content: center;background-color: white;position: relative;}#sk-container-id-6 div.sk-item::before, #sk-container-id-6 div.sk-parallel-item::before {content: \"\";position: absolute;border-left: 1px solid gray;box-sizing: border-box;top: 0;bottom: 0;left: 50%;z-index: -1;}#sk-container-id-6 div.sk-parallel-item {display: flex;flex-direction: column;z-index: 1;position: relative;background-color: white;}#sk-container-id-6 div.sk-parallel-item:first-child::after {align-self: flex-end;width: 50%;}#sk-container-id-6 div.sk-parallel-item:last-child::after {align-self: flex-start;width: 50%;}#sk-container-id-6 div.sk-parallel-item:only-child::after {width: 0;}#sk-container-id-6 div.sk-dashed-wrapped {border: 1px dashed gray;margin: 0 0.4em 0.5em 0.4em;box-sizing: border-box;padding-bottom: 0.4em;background-color: white;}#sk-container-id-6 div.sk-label label {font-family: monospace;font-weight: bold;display: inline-block;line-height: 1.2em;}#sk-container-id-6 div.sk-label-container {text-align: center;}#sk-container-id-6 div.sk-container {/* jupyter's `normalize.less` sets `[hidden] { display: none; }` but bootstrap.min.css set `[hidden] { display: none !important; }` so we also need the `!important` here to be able to override the default hidden behavior on the sphinx rendered scikit-learn.org. See: https://github.com/scikit-learn/scikit-learn/issues/21755 */display: inline-block !important;position: relative;}#sk-container-id-6 div.sk-text-repr-fallback {display: none;}</style><div id=\"sk-container-id-6\" class=\"sk-top-container\"><div class=\"sk-text-repr-fallback\"><pre>LogisticRegression()</pre><b>In a Jupyter environment, please rerun this cell to show the HTML representation or trust the notebook. <br />On GitHub, the HTML representation is unable to render, please try loading this page with nbviewer.org.</b></div><div class=\"sk-container\" hidden><div class=\"sk-item\"><div class=\"sk-estimator sk-toggleable\"><input class=\"sk-toggleable__control sk-hidden--visually\" id=\"sk-estimator-id-6\" type=\"checkbox\" checked><label for=\"sk-estimator-id-6\" class=\"sk-toggleable__label sk-toggleable__label-arrow\">LogisticRegression</label><div class=\"sk-toggleable__content\"><pre>LogisticRegression()</pre></div></div></div></div></div>"
      ],
      "text/plain": [
       "LogisticRegression()"
      ]
     },
     "execution_count": 78,
     "metadata": {},
     "output_type": "execute_result"
    }
   ],
   "source": [
    "logreg.fit(x_train, y_train)"
   ]
  },
  {
   "cell_type": "markdown",
   "id": "5d83fc37",
   "metadata": {},
   "source": [
    "Now we want to test the model. we give the x_test to the model and compare the result to y and \n",
    "y_test"
   ]
  },
  {
   "cell_type": "code",
   "execution_count": 79,
   "id": "39b55727",
   "metadata": {},
   "outputs": [
    {
     "data": {
      "text/plain": [
       "array([0, 1, 0, ..., 1, 0, 1])"
      ]
     },
     "execution_count": 79,
     "metadata": {},
     "output_type": "execute_result"
    }
   ],
   "source": [
    "# Prediction\n",
    "prediction = logreg.predict(x_test)\n",
    "prediction"
   ]
  },
  {
   "cell_type": "markdown",
   "id": "3d70a01d",
   "metadata": {},
   "source": [
    "Confusion Matrix:\n",
    "\n",
    "              predicted0    predicted 1\n",
    "     actual 0  TN             FP\n",
    "     actual 1  FN             TP\n",
    "     \n",
    "     \n",
    "Accuracy = (TP+TN)/(TP+FP+TN+FN)\n",
    "\n",
    "Precision = (TP)/(TP+FP)\n",
    "\n",
    "Recall = (TP)/(TP+FN)\n",
    " \n",
    "F1 Score = 2*(Recall * Prescision)/(Recall + Prescision) "
   ]
  },
  {
   "cell_type": "markdown",
   "id": "03fe6083",
   "metadata": {},
   "source": [
    "Error type | : FP\n",
    "   \n",
    "    when a model makes a false prediction and the result is positie value we call it error type 1\n",
    "\n",
    "    \n",
    "Error type || :  FN\n",
    "    \n",
    "    when model makes a false prediction and the result is negative we call it  error type 2"
   ]
  },
  {
   "cell_type": "code",
   "execution_count": 80,
   "id": "ca11b3e4",
   "metadata": {},
   "outputs": [
    {
     "data": {
      "text/plain": [
       "3761    1\n",
       "2249    1\n",
       "4581    1\n",
       "4635    0\n",
       "3107    1\n",
       "       ..\n",
       "5209    0\n",
       "4818    0\n",
       "3955    1\n",
       "3348    0\n",
       "4068    0\n",
       "Name: Satisfaction, Length: 1469, dtype: int64"
      ]
     },
     "execution_count": 80,
     "metadata": {},
     "output_type": "execute_result"
    }
   ],
   "source": [
    "y_test"
   ]
  },
  {
   "cell_type": "code",
   "execution_count": 92,
   "id": "315cea21",
   "metadata": {},
   "outputs": [],
   "source": [
    "from sklearn.metrics import confusion_matrix"
   ]
  },
  {
   "cell_type": "code",
   "execution_count": 93,
   "id": "eec56f65",
   "metadata": {},
   "outputs": [
    {
     "data": {
      "text/plain": [
       "array([[509, 206],\n",
       "       [257, 497]])"
      ]
     },
     "execution_count": 93,
     "metadata": {},
     "output_type": "execute_result"
    }
   ],
   "source": [
    "confusion_matrix(y_test, prediction)"
   ]
  },
  {
   "cell_type": "code",
   "execution_count": 94,
   "id": "d75e74b7",
   "metadata": {
    "scrolled": true
   },
   "outputs": [
    {
     "data": {
      "text/plain": [
       "1469"
      ]
     },
     "execution_count": 94,
     "metadata": {},
     "output_type": "execute_result"
    }
   ],
   "source": [
    "len(y_test)"
   ]
  },
  {
   "cell_type": "markdown",
   "id": "655ba055",
   "metadata": {},
   "source": [
    "# precision:"
   ]
  },
  {
   "cell_type": "code",
   "execution_count": 99,
   "id": "a7948274",
   "metadata": {},
   "outputs": [],
   "source": [
    "from sklearn.metrics import classification_report"
   ]
  },
  {
   "cell_type": "code",
   "execution_count": 100,
   "id": "e93bc93d",
   "metadata": {
    "scrolled": true
   },
   "outputs": [
    {
     "name": "stdout",
     "output_type": "stream",
     "text": [
      "              precision    recall  f1-score   support\n",
      "\n",
      "           0       0.66      0.71      0.69       715\n",
      "           1       0.71      0.66      0.68       754\n",
      "\n",
      "    accuracy                           0.68      1469\n",
      "   macro avg       0.69      0.69      0.68      1469\n",
      "weighted avg       0.69      0.68      0.68      1469\n",
      "\n"
     ]
    }
   ],
   "source": [
    "print(classification_report(y_test, prediction))"
   ]
  },
  {
   "cell_type": "markdown",
   "id": "ed72bae0",
   "metadata": {},
   "source": [
    "# Accuracy:"
   ]
  },
  {
   "cell_type": "code",
   "execution_count": 101,
   "id": "46822a3f",
   "metadata": {},
   "outputs": [],
   "source": [
    "from sklearn.metrics import accuracy_score"
   ]
  },
  {
   "cell_type": "raw",
   "id": "ba6e2765",
   "metadata": {},
   "source": [
    "accuracy_score(y_test, prediction)"
   ]
  },
  {
   "cell_type": "code",
   "execution_count": null,
   "id": "1244202b",
   "metadata": {},
   "outputs": [],
   "source": []
  }
 ],
 "metadata": {
  "kernelspec": {
   "display_name": "Python 3",
   "language": "python",
   "name": "python3"
  },
  "language_info": {
   "codemirror_mode": {
    "name": "ipython",
    "version": 3
   },
   "file_extension": ".py",
   "mimetype": "text/x-python",
   "name": "python",
   "nbconvert_exporter": "python",
   "pygments_lexer": "ipython3",
   "version": "3.8.8"
  }
 },
 "nbformat": 4,
 "nbformat_minor": 5
}
